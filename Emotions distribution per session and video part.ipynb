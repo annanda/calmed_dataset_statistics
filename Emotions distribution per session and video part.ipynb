{
 "cells": [
  {
   "cell_type": "code",
   "execution_count": 1,
   "id": "e09cb6d6",
   "metadata": {
    "pycharm": {
     "name": "#%%\n"
    }
   },
   "outputs": [
    {
     "data": {
      "text/plain": [
       "DataTransformerRegistry.enable('default')"
      ]
     },
     "execution_count": 1,
     "metadata": {},
     "output_type": "execute_result"
    }
   ],
   "source": [
    "# Importing libs\n",
    "import os\n",
    "import sys\n",
    "import numpy as np\n",
    "import pandas as pd\n",
    "import altair as alt\n",
    "\n",
    "alt.data_transformers.disable_max_rows()"
   ]
  },
  {
   "cell_type": "code",
   "execution_count": 2,
   "id": "0a245ea9",
   "metadata": {
    "pycharm": {
     "name": "#%%\n"
    },
    "scrolled": true
   },
   "outputs": [],
   "source": [
    "NOTEBOOK_DIR = os.path.dirname(os.path.realpath(\"__file__\"))\n",
    "PROJECT_ROOT = os.path.dirname(NOTEBOOK_DIR)\n",
    "\n",
    "sys.path.append(PROJECT_ROOT) # make my_module available to import\n",
    "\n",
    "# Importing my python module utils\n",
    "from dataset_statistics.utils import *"
   ]
  },
  {
   "cell_type": "markdown",
   "id": "b6a9c6cf",
   "metadata": {},
   "source": [
    "# Emotion Zone distribution over participants' sessions"
   ]
  },
  {
   "cell_type": "markdown",
   "id": "5d5543ac",
   "metadata": {},
   "source": [
    "# 1.1 P"
   ]
  },
  {
   "cell_type": "code",
   "execution_count": 3,
   "id": "884d823f",
   "metadata": {
    "pycharm": {
     "name": "#%%\n"
    }
   },
   "outputs": [
    {
     "name": "stdout",
     "output_type": "stream",
     "text": [
      "   green  blue  yellow  red  video_part\n",
      "0   1296   102      33    0           1\n",
      "1    981   510      10    0           2\n",
      "2   1235    80      38  148           3\n",
      "3    317   540     402  242           4\n",
      "4    398   942     161    0           5\n",
      "5    501   982      18    0           6\n",
      "6    430     0     126    0           7\n"
     ]
    },
    {
     "name": "stderr",
     "output_type": "stream",
     "text": [
      "/Users/annanda/.virtualenvs/dataset_statistics/lib/python3.10/site-packages/altair/utils/core.py:317: FutureWarning: iteritems is deprecated and will be removed in a future version. Use .items instead.\n",
      "  for col_name, dtype in df.dtypes.iteritems():\n"
     ]
    },
    {
     "data": {
      "text/html": [
       "\n",
       "<div id=\"altair-viz-5a81db90f4db418e955f24bac39858ad\"></div>\n",
       "<script type=\"text/javascript\">\n",
       "  var VEGA_DEBUG = (typeof VEGA_DEBUG == \"undefined\") ? {} : VEGA_DEBUG;\n",
       "  (function(spec, embedOpt){\n",
       "    let outputDiv = document.currentScript.previousElementSibling;\n",
       "    if (outputDiv.id !== \"altair-viz-5a81db90f4db418e955f24bac39858ad\") {\n",
       "      outputDiv = document.getElementById(\"altair-viz-5a81db90f4db418e955f24bac39858ad\");\n",
       "    }\n",
       "    const paths = {\n",
       "      \"vega\": \"https://cdn.jsdelivr.net/npm//vega@5?noext\",\n",
       "      \"vega-lib\": \"https://cdn.jsdelivr.net/npm//vega-lib?noext\",\n",
       "      \"vega-lite\": \"https://cdn.jsdelivr.net/npm//vega-lite@4.17.0?noext\",\n",
       "      \"vega-embed\": \"https://cdn.jsdelivr.net/npm//vega-embed@6?noext\",\n",
       "    };\n",
       "\n",
       "    function maybeLoadScript(lib, version) {\n",
       "      var key = `${lib.replace(\"-\", \"\")}_version`;\n",
       "      return (VEGA_DEBUG[key] == version) ?\n",
       "        Promise.resolve(paths[lib]) :\n",
       "        new Promise(function(resolve, reject) {\n",
       "          var s = document.createElement('script');\n",
       "          document.getElementsByTagName(\"head\")[0].appendChild(s);\n",
       "          s.async = true;\n",
       "          s.onload = () => {\n",
       "            VEGA_DEBUG[key] = version;\n",
       "            return resolve(paths[lib]);\n",
       "          };\n",
       "          s.onerror = () => reject(`Error loading script: ${paths[lib]}`);\n",
       "          s.src = paths[lib];\n",
       "        });\n",
       "    }\n",
       "\n",
       "    function showError(err) {\n",
       "      outputDiv.innerHTML = `<div class=\"error\" style=\"color:red;\">${err}</div>`;\n",
       "      throw err;\n",
       "    }\n",
       "\n",
       "    function displayChart(vegaEmbed) {\n",
       "      vegaEmbed(outputDiv, spec, embedOpt)\n",
       "        .catch(err => showError(`Javascript Error: ${err.message}<br>This usually means there's a typo in your chart specification. See the javascript console for the full traceback.`));\n",
       "    }\n",
       "\n",
       "    if(typeof define === \"function\" && define.amd) {\n",
       "      requirejs.config({paths});\n",
       "      require([\"vega-embed\"], displayChart, err => showError(`Error loading script: ${err.message}`));\n",
       "    } else {\n",
       "      maybeLoadScript(\"vega\", \"5\")\n",
       "        .then(() => maybeLoadScript(\"vega-lite\", \"4.17.0\"))\n",
       "        .then(() => maybeLoadScript(\"vega-embed\", \"6\"))\n",
       "        .catch(showError)\n",
       "        .then(() => displayChart(vegaEmbed));\n",
       "    }\n",
       "  })({\"config\": {\"view\": {\"continuousWidth\": 400, \"continuousHeight\": 300}}, \"data\": {\"name\": \"data-e352e5f957839a7879aeeae1aa65ab60\"}, \"mark\": \"bar\", \"encoding\": {\"color\": {\"field\": \"emotion_zone\", \"legend\": null, \"scale\": {\"domain\": [\"green\", \"yellow\", \"red\", \"blue\"], \"range\": [\"green\", \"yellow\", \"red\", \"blue\"]}, \"title\": \"Emotion zones\", \"type\": \"nominal\"}, \"column\": {\"field\": \"video_part\", \"title\": \"Video Part: Session 1.1 (Parents Annotation)\", \"type\": \"nominal\"}, \"x\": {\"field\": \"emotion_zone\", \"sort\": [\"green\", \"yellow\", \"red\", \"blue\"], \"title\": \"Emotions\", \"type\": \"nominal\"}, \"y\": {\"field\": \"values\", \"scale\": {\"domain\": [0, 1600]}, \"title\": \"Number of Examples\", \"type\": \"quantitative\"}}, \"$schema\": \"https://vega.github.io/schema/vega-lite/v4.17.0.json\", \"datasets\": {\"data-e352e5f957839a7879aeeae1aa65ab60\": [{\"video_part\": 1, \"emotion_zone\": \"green\", \"values\": 1296}, {\"video_part\": 2, \"emotion_zone\": \"green\", \"values\": 981}, {\"video_part\": 3, \"emotion_zone\": \"green\", \"values\": 1235}, {\"video_part\": 4, \"emotion_zone\": \"green\", \"values\": 317}, {\"video_part\": 5, \"emotion_zone\": \"green\", \"values\": 398}, {\"video_part\": 6, \"emotion_zone\": \"green\", \"values\": 501}, {\"video_part\": 7, \"emotion_zone\": \"green\", \"values\": 430}, {\"video_part\": 1, \"emotion_zone\": \"blue\", \"values\": 102}, {\"video_part\": 2, \"emotion_zone\": \"blue\", \"values\": 510}, {\"video_part\": 3, \"emotion_zone\": \"blue\", \"values\": 80}, {\"video_part\": 4, \"emotion_zone\": \"blue\", \"values\": 540}, {\"video_part\": 5, \"emotion_zone\": \"blue\", \"values\": 942}, {\"video_part\": 6, \"emotion_zone\": \"blue\", \"values\": 982}, {\"video_part\": 7, \"emotion_zone\": \"blue\", \"values\": 0}, {\"video_part\": 1, \"emotion_zone\": \"yellow\", \"values\": 33}, {\"video_part\": 2, \"emotion_zone\": \"yellow\", \"values\": 10}, {\"video_part\": 3, \"emotion_zone\": \"yellow\", \"values\": 38}, {\"video_part\": 4, \"emotion_zone\": \"yellow\", \"values\": 402}, {\"video_part\": 5, \"emotion_zone\": \"yellow\", \"values\": 161}, {\"video_part\": 6, \"emotion_zone\": \"yellow\", \"values\": 18}, {\"video_part\": 7, \"emotion_zone\": \"yellow\", \"values\": 126}, {\"video_part\": 1, \"emotion_zone\": \"red\", \"values\": 0}, {\"video_part\": 2, \"emotion_zone\": \"red\", \"values\": 0}, {\"video_part\": 3, \"emotion_zone\": \"red\", \"values\": 148}, {\"video_part\": 4, \"emotion_zone\": \"red\", \"values\": 242}, {\"video_part\": 5, \"emotion_zone\": \"red\", \"values\": 0}, {\"video_part\": 6, \"emotion_zone\": \"red\", \"values\": 0}, {\"video_part\": 7, \"emotion_zone\": \"red\", \"values\": 0}]}}, {\"mode\": \"vega-lite\"});\n",
       "</script>"
      ],
      "text/plain": [
       "alt.Chart(...)"
      ]
     },
     "execution_count": 3,
     "metadata": {},
     "output_type": "execute_result"
    }
   ],
   "source": [
    "dataframes_11 = add_video_part_column_to_dataframes(dataframes_11)\n",
    "\n",
    "dataframes_11_dict = create_whole_session_dict_values(dataframes_11)\n",
    "\n",
    "df_session_21 = pd.DataFrame(dataframes_11_dict)\n",
    "print(df_session_21)\n",
    "\n",
    "\n",
    "# Using pandas function to transform from wide format to long format, so Altair can work better\n",
    "source_21 = df_session_21.melt(\"video_part\", var_name=\"emotion_zone\", value_name='values')\n",
    "\n",
    "alt.Chart(source_21).mark_bar().encode(\n",
    "    alt.X('emotion_zone:N', sort=COLOURS, title='Emotions'),\n",
    "    alt.Y('values:Q', title='Number of Examples',\n",
    "         scale=alt.Scale(domain=(0, 1600)),\n",
    "         ),\n",
    "    column=alt.Column('video_part:N', title='Video Part: Session 1.1 (Parents Annotation)'),\n",
    "    color=alt.Color('emotion_zone', scale=alt.Scale(domain=EMOTIONS, range=COLOURS), title='Emotion zones', legend=None)\n",
    "\n",
    ")"
   ]
  },
  {
   "cell_type": "markdown",
   "id": "03534499",
   "metadata": {},
   "source": [
    "# 2.1 P"
   ]
  },
  {
   "cell_type": "code",
   "execution_count": 4,
   "id": "2d38131e",
   "metadata": {
    "pycharm": {
     "name": "#%%\n"
    }
   },
   "outputs": [
    {
     "name": "stdout",
     "output_type": "stream",
     "text": [
      "   green  blue  yellow  red  video_part\n",
      "0   1224     0     241   36           1\n",
      "1    754   290     249  208           2\n",
      "2    325   142     804  230           3\n",
      "3      0   603     566  332           4\n",
      "4    752   351     377   21           5\n",
      "5    609     0     207    0           6\n"
     ]
    },
    {
     "name": "stderr",
     "output_type": "stream",
     "text": [
      "/Users/annanda/.virtualenvs/dataset_statistics/lib/python3.10/site-packages/altair/utils/core.py:317: FutureWarning: iteritems is deprecated and will be removed in a future version. Use .items instead.\n",
      "  for col_name, dtype in df.dtypes.iteritems():\n"
     ]
    },
    {
     "data": {
      "text/html": [
       "\n",
       "<div id=\"altair-viz-67886e3992a449afb4d5ff3445552f9c\"></div>\n",
       "<script type=\"text/javascript\">\n",
       "  var VEGA_DEBUG = (typeof VEGA_DEBUG == \"undefined\") ? {} : VEGA_DEBUG;\n",
       "  (function(spec, embedOpt){\n",
       "    let outputDiv = document.currentScript.previousElementSibling;\n",
       "    if (outputDiv.id !== \"altair-viz-67886e3992a449afb4d5ff3445552f9c\") {\n",
       "      outputDiv = document.getElementById(\"altair-viz-67886e3992a449afb4d5ff3445552f9c\");\n",
       "    }\n",
       "    const paths = {\n",
       "      \"vega\": \"https://cdn.jsdelivr.net/npm//vega@5?noext\",\n",
       "      \"vega-lib\": \"https://cdn.jsdelivr.net/npm//vega-lib?noext\",\n",
       "      \"vega-lite\": \"https://cdn.jsdelivr.net/npm//vega-lite@4.17.0?noext\",\n",
       "      \"vega-embed\": \"https://cdn.jsdelivr.net/npm//vega-embed@6?noext\",\n",
       "    };\n",
       "\n",
       "    function maybeLoadScript(lib, version) {\n",
       "      var key = `${lib.replace(\"-\", \"\")}_version`;\n",
       "      return (VEGA_DEBUG[key] == version) ?\n",
       "        Promise.resolve(paths[lib]) :\n",
       "        new Promise(function(resolve, reject) {\n",
       "          var s = document.createElement('script');\n",
       "          document.getElementsByTagName(\"head\")[0].appendChild(s);\n",
       "          s.async = true;\n",
       "          s.onload = () => {\n",
       "            VEGA_DEBUG[key] = version;\n",
       "            return resolve(paths[lib]);\n",
       "          };\n",
       "          s.onerror = () => reject(`Error loading script: ${paths[lib]}`);\n",
       "          s.src = paths[lib];\n",
       "        });\n",
       "    }\n",
       "\n",
       "    function showError(err) {\n",
       "      outputDiv.innerHTML = `<div class=\"error\" style=\"color:red;\">${err}</div>`;\n",
       "      throw err;\n",
       "    }\n",
       "\n",
       "    function displayChart(vegaEmbed) {\n",
       "      vegaEmbed(outputDiv, spec, embedOpt)\n",
       "        .catch(err => showError(`Javascript Error: ${err.message}<br>This usually means there's a typo in your chart specification. See the javascript console for the full traceback.`));\n",
       "    }\n",
       "\n",
       "    if(typeof define === \"function\" && define.amd) {\n",
       "      requirejs.config({paths});\n",
       "      require([\"vega-embed\"], displayChart, err => showError(`Error loading script: ${err.message}`));\n",
       "    } else {\n",
       "      maybeLoadScript(\"vega\", \"5\")\n",
       "        .then(() => maybeLoadScript(\"vega-lite\", \"4.17.0\"))\n",
       "        .then(() => maybeLoadScript(\"vega-embed\", \"6\"))\n",
       "        .catch(showError)\n",
       "        .then(() => displayChart(vegaEmbed));\n",
       "    }\n",
       "  })({\"config\": {\"view\": {\"continuousWidth\": 400, \"continuousHeight\": 300}}, \"data\": {\"name\": \"data-c5e05e23f3dbb632e6d4f81d50c198a3\"}, \"mark\": \"bar\", \"encoding\": {\"color\": {\"field\": \"emotion_zone\", \"legend\": null, \"scale\": {\"domain\": [\"green\", \"yellow\", \"red\", \"blue\"], \"range\": [\"green\", \"yellow\", \"red\", \"blue\"]}, \"title\": \"Emotion zones\", \"type\": \"nominal\"}, \"column\": {\"field\": \"video_part\", \"title\": \"Video Part: Session 2.1 (Parents Annotation)\", \"type\": \"nominal\"}, \"x\": {\"field\": \"emotion_zone\", \"sort\": [\"green\", \"yellow\", \"red\", \"blue\"], \"title\": \"Emotions\", \"type\": \"nominal\"}, \"y\": {\"field\": \"values\", \"scale\": {\"domain\": [0, 1600]}, \"title\": \"Number of Examples\", \"type\": \"quantitative\"}}, \"$schema\": \"https://vega.github.io/schema/vega-lite/v4.17.0.json\", \"datasets\": {\"data-c5e05e23f3dbb632e6d4f81d50c198a3\": [{\"video_part\": 1, \"emotion_zone\": \"green\", \"values\": 1224}, {\"video_part\": 2, \"emotion_zone\": \"green\", \"values\": 754}, {\"video_part\": 3, \"emotion_zone\": \"green\", \"values\": 325}, {\"video_part\": 4, \"emotion_zone\": \"green\", \"values\": 0}, {\"video_part\": 5, \"emotion_zone\": \"green\", \"values\": 752}, {\"video_part\": 6, \"emotion_zone\": \"green\", \"values\": 609}, {\"video_part\": 1, \"emotion_zone\": \"blue\", \"values\": 0}, {\"video_part\": 2, \"emotion_zone\": \"blue\", \"values\": 290}, {\"video_part\": 3, \"emotion_zone\": \"blue\", \"values\": 142}, {\"video_part\": 4, \"emotion_zone\": \"blue\", \"values\": 603}, {\"video_part\": 5, \"emotion_zone\": \"blue\", \"values\": 351}, {\"video_part\": 6, \"emotion_zone\": \"blue\", \"values\": 0}, {\"video_part\": 1, \"emotion_zone\": \"yellow\", \"values\": 241}, {\"video_part\": 2, \"emotion_zone\": \"yellow\", \"values\": 249}, {\"video_part\": 3, \"emotion_zone\": \"yellow\", \"values\": 804}, {\"video_part\": 4, \"emotion_zone\": \"yellow\", \"values\": 566}, {\"video_part\": 5, \"emotion_zone\": \"yellow\", \"values\": 377}, {\"video_part\": 6, \"emotion_zone\": \"yellow\", \"values\": 207}, {\"video_part\": 1, \"emotion_zone\": \"red\", \"values\": 36}, {\"video_part\": 2, \"emotion_zone\": \"red\", \"values\": 208}, {\"video_part\": 3, \"emotion_zone\": \"red\", \"values\": 230}, {\"video_part\": 4, \"emotion_zone\": \"red\", \"values\": 332}, {\"video_part\": 5, \"emotion_zone\": \"red\", \"values\": 21}, {\"video_part\": 6, \"emotion_zone\": \"red\", \"values\": 0}]}}, {\"mode\": \"vega-lite\"});\n",
       "</script>"
      ],
      "text/plain": [
       "alt.Chart(...)"
      ]
     },
     "execution_count": 4,
     "metadata": {},
     "output_type": "execute_result"
    }
   ],
   "source": [
    "dataframes_21 = add_video_part_column_to_dataframes(dataframes_21)\n",
    "\n",
    "dataframes_21_dict = create_whole_session_dict_values(dataframes_21)\n",
    "\n",
    "df_session_21 = pd.DataFrame(dataframes_21_dict)\n",
    "print(df_session_21)\n",
    "\n",
    "\n",
    "# Using pandas function to transform from wide format to long format, so Altair can work better\n",
    "source_21 = df_session_21.melt(\"video_part\", var_name=\"emotion_zone\", value_name='values')\n",
    "\n",
    "alt.Chart(source_21).mark_bar().encode(\n",
    "    alt.X('emotion_zone:N', sort=COLOURS, title='Emotions'),\n",
    "    alt.Y('values:Q', title='Number of Examples',\n",
    "         scale=alt.Scale(domain=(0, 1600)),\n",
    "         ),\n",
    "    column=alt.Column('video_part:N', title='Video Part: Session 2.1 (Parents Annotation)'),\n",
    "    color=alt.Color('emotion_zone', scale=alt.Scale(domain=EMOTIONS, range=COLOURS), title='Emotion zones', legend=None)\n",
    "\n",
    ")"
   ]
  },
  {
   "cell_type": "markdown",
   "id": "52b5050f",
   "metadata": {},
   "source": [
    "# 2.2 P"
   ]
  },
  {
   "cell_type": "code",
   "execution_count": 10,
   "id": "18355dbf",
   "metadata": {
    "pycharm": {
     "name": "#%%\n"
    }
   },
   "outputs": [
    {
     "name": "stdout",
     "output_type": "stream",
     "text": [
      "   green  blue  yellow  red  video_part\n",
      "0   1501     0       0    0           1\n",
      "1    347     0     501  653           2\n",
      "2    879   249     373    0           3\n",
      "3    301  1142      58    0           4\n",
      "4    897   192     412    0           5\n",
      "5    550    51       0    0           6\n"
     ]
    },
    {
     "name": "stderr",
     "output_type": "stream",
     "text": [
      "/Users/annanda/.virtualenvs/dataset_statistics/lib/python3.10/site-packages/altair/utils/core.py:317: FutureWarning: iteritems is deprecated and will be removed in a future version. Use .items instead.\n",
      "  for col_name, dtype in df.dtypes.iteritems():\n"
     ]
    },
    {
     "data": {
      "text/html": [
       "\n",
       "<div id=\"altair-viz-2067f6ec0a01435483f969d52ee40507\"></div>\n",
       "<script type=\"text/javascript\">\n",
       "  var VEGA_DEBUG = (typeof VEGA_DEBUG == \"undefined\") ? {} : VEGA_DEBUG;\n",
       "  (function(spec, embedOpt){\n",
       "    let outputDiv = document.currentScript.previousElementSibling;\n",
       "    if (outputDiv.id !== \"altair-viz-2067f6ec0a01435483f969d52ee40507\") {\n",
       "      outputDiv = document.getElementById(\"altair-viz-2067f6ec0a01435483f969d52ee40507\");\n",
       "    }\n",
       "    const paths = {\n",
       "      \"vega\": \"https://cdn.jsdelivr.net/npm//vega@5?noext\",\n",
       "      \"vega-lib\": \"https://cdn.jsdelivr.net/npm//vega-lib?noext\",\n",
       "      \"vega-lite\": \"https://cdn.jsdelivr.net/npm//vega-lite@4.17.0?noext\",\n",
       "      \"vega-embed\": \"https://cdn.jsdelivr.net/npm//vega-embed@6?noext\",\n",
       "    };\n",
       "\n",
       "    function maybeLoadScript(lib, version) {\n",
       "      var key = `${lib.replace(\"-\", \"\")}_version`;\n",
       "      return (VEGA_DEBUG[key] == version) ?\n",
       "        Promise.resolve(paths[lib]) :\n",
       "        new Promise(function(resolve, reject) {\n",
       "          var s = document.createElement('script');\n",
       "          document.getElementsByTagName(\"head\")[0].appendChild(s);\n",
       "          s.async = true;\n",
       "          s.onload = () => {\n",
       "            VEGA_DEBUG[key] = version;\n",
       "            return resolve(paths[lib]);\n",
       "          };\n",
       "          s.onerror = () => reject(`Error loading script: ${paths[lib]}`);\n",
       "          s.src = paths[lib];\n",
       "        });\n",
       "    }\n",
       "\n",
       "    function showError(err) {\n",
       "      outputDiv.innerHTML = `<div class=\"error\" style=\"color:red;\">${err}</div>`;\n",
       "      throw err;\n",
       "    }\n",
       "\n",
       "    function displayChart(vegaEmbed) {\n",
       "      vegaEmbed(outputDiv, spec, embedOpt)\n",
       "        .catch(err => showError(`Javascript Error: ${err.message}<br>This usually means there's a typo in your chart specification. See the javascript console for the full traceback.`));\n",
       "    }\n",
       "\n",
       "    if(typeof define === \"function\" && define.amd) {\n",
       "      requirejs.config({paths});\n",
       "      require([\"vega-embed\"], displayChart, err => showError(`Error loading script: ${err.message}`));\n",
       "    } else {\n",
       "      maybeLoadScript(\"vega\", \"5\")\n",
       "        .then(() => maybeLoadScript(\"vega-lite\", \"4.17.0\"))\n",
       "        .then(() => maybeLoadScript(\"vega-embed\", \"6\"))\n",
       "        .catch(showError)\n",
       "        .then(() => displayChart(vegaEmbed));\n",
       "    }\n",
       "  })({\"config\": {\"view\": {\"continuousWidth\": 400, \"continuousHeight\": 300}}, \"data\": {\"name\": \"data-90904183f2757defbf6b37ae8b7cd92d\"}, \"mark\": \"bar\", \"encoding\": {\"color\": {\"field\": \"emotion_zone\", \"legend\": null, \"scale\": {\"domain\": [\"green\", \"yellow\", \"red\", \"blue\"], \"range\": [\"green\", \"yellow\", \"red\", \"blue\"]}, \"title\": \"Emotion zones\", \"type\": \"nominal\"}, \"column\": {\"field\": \"video_part\", \"title\": \"Video Part: Session 2.2 (Parents Annotation)\", \"type\": \"nominal\"}, \"x\": {\"field\": \"emotion_zone\", \"sort\": [\"green\", \"yellow\", \"red\", \"blue\"], \"title\": \"Emotions\", \"type\": \"nominal\"}, \"y\": {\"field\": \"values\", \"scale\": {\"domain\": [0, 1600]}, \"title\": \"Number of Examples\", \"type\": \"quantitative\"}}, \"$schema\": \"https://vega.github.io/schema/vega-lite/v4.17.0.json\", \"datasets\": {\"data-90904183f2757defbf6b37ae8b7cd92d\": [{\"video_part\": 1, \"emotion_zone\": \"green\", \"values\": 1501}, {\"video_part\": 2, \"emotion_zone\": \"green\", \"values\": 347}, {\"video_part\": 3, \"emotion_zone\": \"green\", \"values\": 879}, {\"video_part\": 4, \"emotion_zone\": \"green\", \"values\": 301}, {\"video_part\": 5, \"emotion_zone\": \"green\", \"values\": 897}, {\"video_part\": 6, \"emotion_zone\": \"green\", \"values\": 550}, {\"video_part\": 1, \"emotion_zone\": \"blue\", \"values\": 0}, {\"video_part\": 2, \"emotion_zone\": \"blue\", \"values\": 0}, {\"video_part\": 3, \"emotion_zone\": \"blue\", \"values\": 249}, {\"video_part\": 4, \"emotion_zone\": \"blue\", \"values\": 1142}, {\"video_part\": 5, \"emotion_zone\": \"blue\", \"values\": 192}, {\"video_part\": 6, \"emotion_zone\": \"blue\", \"values\": 51}, {\"video_part\": 1, \"emotion_zone\": \"yellow\", \"values\": 0}, {\"video_part\": 2, \"emotion_zone\": \"yellow\", \"values\": 501}, {\"video_part\": 3, \"emotion_zone\": \"yellow\", \"values\": 373}, {\"video_part\": 4, \"emotion_zone\": \"yellow\", \"values\": 58}, {\"video_part\": 5, \"emotion_zone\": \"yellow\", \"values\": 412}, {\"video_part\": 6, \"emotion_zone\": \"yellow\", \"values\": 0}, {\"video_part\": 1, \"emotion_zone\": \"red\", \"values\": 0}, {\"video_part\": 2, \"emotion_zone\": \"red\", \"values\": 653}, {\"video_part\": 3, \"emotion_zone\": \"red\", \"values\": 0}, {\"video_part\": 4, \"emotion_zone\": \"red\", \"values\": 0}, {\"video_part\": 5, \"emotion_zone\": \"red\", \"values\": 0}, {\"video_part\": 6, \"emotion_zone\": \"red\", \"values\": 0}]}}, {\"mode\": \"vega-lite\"});\n",
       "</script>"
      ],
      "text/plain": [
       "alt.Chart(...)"
      ]
     },
     "execution_count": 10,
     "metadata": {},
     "output_type": "execute_result"
    }
   ],
   "source": [
    "dataframes_21 = add_video_part_column_to_dataframes(dataframes_22)\n",
    "\n",
    "dataframes_21_dict = create_whole_session_dict_values(dataframes_21)\n",
    "\n",
    "df_session_21 = pd.DataFrame(dataframes_21_dict)\n",
    "print(df_session_21)\n",
    "\n",
    "\n",
    "# Using pandas function to transform from wide format to long format, so Altair can work better\n",
    "source_21 = df_session_21.melt(\"video_part\", var_name=\"emotion_zone\", value_name='values')\n",
    "\n",
    "alt.Chart(source_21).mark_bar().encode(\n",
    "    alt.X('emotion_zone:N', sort=COLOURS, title='Emotions'),\n",
    "    alt.Y('values:Q', title='Number of Examples',\n",
    "         scale=alt.Scale(domain=(0, 1600)),\n",
    "         ),\n",
    "    column=alt.Column('video_part:N', title='Video Part: Session 2.2 (Parents Annotation)'),\n",
    "    color=alt.Color('emotion_zone', scale=alt.Scale(domain=EMOTIONS, range=COLOURS), title='Emotion zones', legend=None)\n",
    "\n",
    ")"
   ]
  },
  {
   "cell_type": "markdown",
   "id": "30758d89",
   "metadata": {},
   "source": [
    "# 3.1 P"
   ]
  },
  {
   "cell_type": "code",
   "execution_count": 12,
   "id": "134659b1",
   "metadata": {
    "pycharm": {
     "name": "#%%\n"
    }
   },
   "outputs": [
    {
     "name": "stdout",
     "output_type": "stream",
     "text": [
      "   green  blue  yellow  red  video_part\n",
      "0    836     0       0    0           1\n",
      "1   1501     0       0    0           2\n",
      "2    349   583     286  283           3\n",
      "3    445   520     536    0           4\n",
      "4     71  1049     250  131           5\n",
      "5   1317    82       0  102           6\n",
      "6    420    31       0    0           7\n"
     ]
    },
    {
     "name": "stderr",
     "output_type": "stream",
     "text": [
      "/Users/annanda/.virtualenvs/dataset_statistics/lib/python3.10/site-packages/altair/utils/core.py:317: FutureWarning: iteritems is deprecated and will be removed in a future version. Use .items instead.\n",
      "  for col_name, dtype in df.dtypes.iteritems():\n"
     ]
    },
    {
     "data": {
      "text/html": [
       "\n",
       "<div id=\"altair-viz-091de95f94c0457d829790d895563995\"></div>\n",
       "<script type=\"text/javascript\">\n",
       "  var VEGA_DEBUG = (typeof VEGA_DEBUG == \"undefined\") ? {} : VEGA_DEBUG;\n",
       "  (function(spec, embedOpt){\n",
       "    let outputDiv = document.currentScript.previousElementSibling;\n",
       "    if (outputDiv.id !== \"altair-viz-091de95f94c0457d829790d895563995\") {\n",
       "      outputDiv = document.getElementById(\"altair-viz-091de95f94c0457d829790d895563995\");\n",
       "    }\n",
       "    const paths = {\n",
       "      \"vega\": \"https://cdn.jsdelivr.net/npm//vega@5?noext\",\n",
       "      \"vega-lib\": \"https://cdn.jsdelivr.net/npm//vega-lib?noext\",\n",
       "      \"vega-lite\": \"https://cdn.jsdelivr.net/npm//vega-lite@4.17.0?noext\",\n",
       "      \"vega-embed\": \"https://cdn.jsdelivr.net/npm//vega-embed@6?noext\",\n",
       "    };\n",
       "\n",
       "    function maybeLoadScript(lib, version) {\n",
       "      var key = `${lib.replace(\"-\", \"\")}_version`;\n",
       "      return (VEGA_DEBUG[key] == version) ?\n",
       "        Promise.resolve(paths[lib]) :\n",
       "        new Promise(function(resolve, reject) {\n",
       "          var s = document.createElement('script');\n",
       "          document.getElementsByTagName(\"head\")[0].appendChild(s);\n",
       "          s.async = true;\n",
       "          s.onload = () => {\n",
       "            VEGA_DEBUG[key] = version;\n",
       "            return resolve(paths[lib]);\n",
       "          };\n",
       "          s.onerror = () => reject(`Error loading script: ${paths[lib]}`);\n",
       "          s.src = paths[lib];\n",
       "        });\n",
       "    }\n",
       "\n",
       "    function showError(err) {\n",
       "      outputDiv.innerHTML = `<div class=\"error\" style=\"color:red;\">${err}</div>`;\n",
       "      throw err;\n",
       "    }\n",
       "\n",
       "    function displayChart(vegaEmbed) {\n",
       "      vegaEmbed(outputDiv, spec, embedOpt)\n",
       "        .catch(err => showError(`Javascript Error: ${err.message}<br>This usually means there's a typo in your chart specification. See the javascript console for the full traceback.`));\n",
       "    }\n",
       "\n",
       "    if(typeof define === \"function\" && define.amd) {\n",
       "      requirejs.config({paths});\n",
       "      require([\"vega-embed\"], displayChart, err => showError(`Error loading script: ${err.message}`));\n",
       "    } else {\n",
       "      maybeLoadScript(\"vega\", \"5\")\n",
       "        .then(() => maybeLoadScript(\"vega-lite\", \"4.17.0\"))\n",
       "        .then(() => maybeLoadScript(\"vega-embed\", \"6\"))\n",
       "        .catch(showError)\n",
       "        .then(() => displayChart(vegaEmbed));\n",
       "    }\n",
       "  })({\"config\": {\"view\": {\"continuousWidth\": 400, \"continuousHeight\": 300}}, \"data\": {\"name\": \"data-b38deb365c6ab70c24e53055ec5fcfa5\"}, \"mark\": \"bar\", \"encoding\": {\"color\": {\"field\": \"emotion_zone\", \"legend\": null, \"scale\": {\"domain\": [\"green\", \"yellow\", \"red\", \"blue\"], \"range\": [\"green\", \"yellow\", \"red\", \"blue\"]}, \"title\": \"Emotion zones\", \"type\": \"nominal\"}, \"column\": {\"field\": \"video_part\", \"title\": \"Video Part: Session 3.1 (Parents Annotation)\", \"type\": \"nominal\"}, \"x\": {\"field\": \"emotion_zone\", \"sort\": [\"green\", \"yellow\", \"red\", \"blue\"], \"title\": \"Emotions\", \"type\": \"nominal\"}, \"y\": {\"field\": \"values\", \"scale\": {\"domain\": [0, 1600]}, \"title\": \"Number of Examples\", \"type\": \"quantitative\"}}, \"$schema\": \"https://vega.github.io/schema/vega-lite/v4.17.0.json\", \"datasets\": {\"data-b38deb365c6ab70c24e53055ec5fcfa5\": [{\"video_part\": 1, \"emotion_zone\": \"green\", \"values\": 836}, {\"video_part\": 2, \"emotion_zone\": \"green\", \"values\": 1501}, {\"video_part\": 3, \"emotion_zone\": \"green\", \"values\": 349}, {\"video_part\": 4, \"emotion_zone\": \"green\", \"values\": 445}, {\"video_part\": 5, \"emotion_zone\": \"green\", \"values\": 71}, {\"video_part\": 6, \"emotion_zone\": \"green\", \"values\": 1317}, {\"video_part\": 7, \"emotion_zone\": \"green\", \"values\": 420}, {\"video_part\": 1, \"emotion_zone\": \"blue\", \"values\": 0}, {\"video_part\": 2, \"emotion_zone\": \"blue\", \"values\": 0}, {\"video_part\": 3, \"emotion_zone\": \"blue\", \"values\": 583}, {\"video_part\": 4, \"emotion_zone\": \"blue\", \"values\": 520}, {\"video_part\": 5, \"emotion_zone\": \"blue\", \"values\": 1049}, {\"video_part\": 6, \"emotion_zone\": \"blue\", \"values\": 82}, {\"video_part\": 7, \"emotion_zone\": \"blue\", \"values\": 31}, {\"video_part\": 1, \"emotion_zone\": \"yellow\", \"values\": 0}, {\"video_part\": 2, \"emotion_zone\": \"yellow\", \"values\": 0}, {\"video_part\": 3, \"emotion_zone\": \"yellow\", \"values\": 286}, {\"video_part\": 4, \"emotion_zone\": \"yellow\", \"values\": 536}, {\"video_part\": 5, \"emotion_zone\": \"yellow\", \"values\": 250}, {\"video_part\": 6, \"emotion_zone\": \"yellow\", \"values\": 0}, {\"video_part\": 7, \"emotion_zone\": \"yellow\", \"values\": 0}, {\"video_part\": 1, \"emotion_zone\": \"red\", \"values\": 0}, {\"video_part\": 2, \"emotion_zone\": \"red\", \"values\": 0}, {\"video_part\": 3, \"emotion_zone\": \"red\", \"values\": 283}, {\"video_part\": 4, \"emotion_zone\": \"red\", \"values\": 0}, {\"video_part\": 5, \"emotion_zone\": \"red\", \"values\": 131}, {\"video_part\": 6, \"emotion_zone\": \"red\", \"values\": 102}, {\"video_part\": 7, \"emotion_zone\": \"red\", \"values\": 0}]}}, {\"mode\": \"vega-lite\"});\n",
       "</script>"
      ],
      "text/plain": [
       "alt.Chart(...)"
      ]
     },
     "execution_count": 12,
     "metadata": {},
     "output_type": "execute_result"
    }
   ],
   "source": [
    "dataframes_21 = add_video_part_column_to_dataframes(dataframes_31)\n",
    "\n",
    "dataframes_21_dict = create_whole_session_dict_values(dataframes_21)\n",
    "\n",
    "df_session_21 = pd.DataFrame(dataframes_21_dict)\n",
    "print(df_session_21)\n",
    "\n",
    "\n",
    "# Using pandas function to transform from wide format to long format, so Altair can work better\n",
    "source_21 = df_session_21.melt(\"video_part\", var_name=\"emotion_zone\", value_name='values')\n",
    "\n",
    "alt.Chart(source_21).mark_bar().encode(\n",
    "    alt.X('emotion_zone:N', sort=COLOURS, title='Emotions'),\n",
    "    alt.Y('values:Q', title='Number of Examples',\n",
    "         scale=alt.Scale(domain=(0, 1600)),\n",
    "         ),\n",
    "    column=alt.Column('video_part:N', title='Video Part: Session 3.1 (Parents Annotation)'),\n",
    "    color=alt.Color('emotion_zone', scale=alt.Scale(domain=EMOTIONS, range=COLOURS), title='Emotion zones', legend=None)\n",
    "\n",
    ")"
   ]
  },
  {
   "cell_type": "markdown",
   "id": "6f77fed0",
   "metadata": {},
   "source": [
    "# 3.2 P"
   ]
  },
  {
   "cell_type": "code",
   "execution_count": 14,
   "id": "02a2e37f",
   "metadata": {
    "pycharm": {
     "name": "#%%\n"
    }
   },
   "outputs": [
    {
     "name": "stdout",
     "output_type": "stream",
     "text": [
      "   green  blue  yellow  red  video_part\n",
      "0   1010   181     310    0           1\n",
      "1    974   347     180    0           2\n",
      "2    489   577     435    0           3\n",
      "3    215   791     416   79           4\n",
      "4    530   295     676    0           5\n",
      "5    377     0     104    0           6\n"
     ]
    },
    {
     "name": "stderr",
     "output_type": "stream",
     "text": [
      "/Users/annanda/.virtualenvs/dataset_statistics/lib/python3.10/site-packages/altair/utils/core.py:317: FutureWarning: iteritems is deprecated and will be removed in a future version. Use .items instead.\n",
      "  for col_name, dtype in df.dtypes.iteritems():\n"
     ]
    },
    {
     "data": {
      "text/html": [
       "\n",
       "<div id=\"altair-viz-3e3fa8234ed547b390fd86f158cd0f20\"></div>\n",
       "<script type=\"text/javascript\">\n",
       "  var VEGA_DEBUG = (typeof VEGA_DEBUG == \"undefined\") ? {} : VEGA_DEBUG;\n",
       "  (function(spec, embedOpt){\n",
       "    let outputDiv = document.currentScript.previousElementSibling;\n",
       "    if (outputDiv.id !== \"altair-viz-3e3fa8234ed547b390fd86f158cd0f20\") {\n",
       "      outputDiv = document.getElementById(\"altair-viz-3e3fa8234ed547b390fd86f158cd0f20\");\n",
       "    }\n",
       "    const paths = {\n",
       "      \"vega\": \"https://cdn.jsdelivr.net/npm//vega@5?noext\",\n",
       "      \"vega-lib\": \"https://cdn.jsdelivr.net/npm//vega-lib?noext\",\n",
       "      \"vega-lite\": \"https://cdn.jsdelivr.net/npm//vega-lite@4.17.0?noext\",\n",
       "      \"vega-embed\": \"https://cdn.jsdelivr.net/npm//vega-embed@6?noext\",\n",
       "    };\n",
       "\n",
       "    function maybeLoadScript(lib, version) {\n",
       "      var key = `${lib.replace(\"-\", \"\")}_version`;\n",
       "      return (VEGA_DEBUG[key] == version) ?\n",
       "        Promise.resolve(paths[lib]) :\n",
       "        new Promise(function(resolve, reject) {\n",
       "          var s = document.createElement('script');\n",
       "          document.getElementsByTagName(\"head\")[0].appendChild(s);\n",
       "          s.async = true;\n",
       "          s.onload = () => {\n",
       "            VEGA_DEBUG[key] = version;\n",
       "            return resolve(paths[lib]);\n",
       "          };\n",
       "          s.onerror = () => reject(`Error loading script: ${paths[lib]}`);\n",
       "          s.src = paths[lib];\n",
       "        });\n",
       "    }\n",
       "\n",
       "    function showError(err) {\n",
       "      outputDiv.innerHTML = `<div class=\"error\" style=\"color:red;\">${err}</div>`;\n",
       "      throw err;\n",
       "    }\n",
       "\n",
       "    function displayChart(vegaEmbed) {\n",
       "      vegaEmbed(outputDiv, spec, embedOpt)\n",
       "        .catch(err => showError(`Javascript Error: ${err.message}<br>This usually means there's a typo in your chart specification. See the javascript console for the full traceback.`));\n",
       "    }\n",
       "\n",
       "    if(typeof define === \"function\" && define.amd) {\n",
       "      requirejs.config({paths});\n",
       "      require([\"vega-embed\"], displayChart, err => showError(`Error loading script: ${err.message}`));\n",
       "    } else {\n",
       "      maybeLoadScript(\"vega\", \"5\")\n",
       "        .then(() => maybeLoadScript(\"vega-lite\", \"4.17.0\"))\n",
       "        .then(() => maybeLoadScript(\"vega-embed\", \"6\"))\n",
       "        .catch(showError)\n",
       "        .then(() => displayChart(vegaEmbed));\n",
       "    }\n",
       "  })({\"config\": {\"view\": {\"continuousWidth\": 400, \"continuousHeight\": 300}}, \"data\": {\"name\": \"data-c9084403449240fbaecb0ed552a6507d\"}, \"mark\": \"bar\", \"encoding\": {\"color\": {\"field\": \"emotion_zone\", \"legend\": null, \"scale\": {\"domain\": [\"green\", \"yellow\", \"red\", \"blue\"], \"range\": [\"green\", \"yellow\", \"red\", \"blue\"]}, \"title\": \"Emotion zones\", \"type\": \"nominal\"}, \"column\": {\"field\": \"video_part\", \"title\": \"Video Part: Session 3.2 (Parents Annotation)\", \"type\": \"nominal\"}, \"x\": {\"field\": \"emotion_zone\", \"sort\": [\"green\", \"yellow\", \"red\", \"blue\"], \"title\": \"Emotions\", \"type\": \"nominal\"}, \"y\": {\"field\": \"values\", \"scale\": {\"domain\": [0, 1600]}, \"title\": \"Number of Examples\", \"type\": \"quantitative\"}}, \"$schema\": \"https://vega.github.io/schema/vega-lite/v4.17.0.json\", \"datasets\": {\"data-c9084403449240fbaecb0ed552a6507d\": [{\"video_part\": 1, \"emotion_zone\": \"green\", \"values\": 1010}, {\"video_part\": 2, \"emotion_zone\": \"green\", \"values\": 974}, {\"video_part\": 3, \"emotion_zone\": \"green\", \"values\": 489}, {\"video_part\": 4, \"emotion_zone\": \"green\", \"values\": 215}, {\"video_part\": 5, \"emotion_zone\": \"green\", \"values\": 530}, {\"video_part\": 6, \"emotion_zone\": \"green\", \"values\": 377}, {\"video_part\": 1, \"emotion_zone\": \"blue\", \"values\": 181}, {\"video_part\": 2, \"emotion_zone\": \"blue\", \"values\": 347}, {\"video_part\": 3, \"emotion_zone\": \"blue\", \"values\": 577}, {\"video_part\": 4, \"emotion_zone\": \"blue\", \"values\": 791}, {\"video_part\": 5, \"emotion_zone\": \"blue\", \"values\": 295}, {\"video_part\": 6, \"emotion_zone\": \"blue\", \"values\": 0}, {\"video_part\": 1, \"emotion_zone\": \"yellow\", \"values\": 310}, {\"video_part\": 2, \"emotion_zone\": \"yellow\", \"values\": 180}, {\"video_part\": 3, \"emotion_zone\": \"yellow\", \"values\": 435}, {\"video_part\": 4, \"emotion_zone\": \"yellow\", \"values\": 416}, {\"video_part\": 5, \"emotion_zone\": \"yellow\", \"values\": 676}, {\"video_part\": 6, \"emotion_zone\": \"yellow\", \"values\": 104}, {\"video_part\": 1, \"emotion_zone\": \"red\", \"values\": 0}, {\"video_part\": 2, \"emotion_zone\": \"red\", \"values\": 0}, {\"video_part\": 3, \"emotion_zone\": \"red\", \"values\": 0}, {\"video_part\": 4, \"emotion_zone\": \"red\", \"values\": 79}, {\"video_part\": 5, \"emotion_zone\": \"red\", \"values\": 0}, {\"video_part\": 6, \"emotion_zone\": \"red\", \"values\": 0}]}}, {\"mode\": \"vega-lite\"});\n",
       "</script>"
      ],
      "text/plain": [
       "alt.Chart(...)"
      ]
     },
     "execution_count": 14,
     "metadata": {},
     "output_type": "execute_result"
    }
   ],
   "source": [
    "dataframes_21 = add_video_part_column_to_dataframes(dataframes_32)\n",
    "\n",
    "dataframes_21_dict = create_whole_session_dict_values(dataframes_21)\n",
    "\n",
    "df_session_21 = pd.DataFrame(dataframes_21_dict)\n",
    "print(df_session_21)\n",
    "\n",
    "\n",
    "# Using pandas function to transform from wide format to long format, so Altair can work better\n",
    "source_21 = df_session_21.melt(\"video_part\", var_name=\"emotion_zone\", value_name='values')\n",
    "\n",
    "alt.Chart(source_21).mark_bar().encode(\n",
    "    alt.X('emotion_zone:N', sort=COLOURS, title='Emotions'),\n",
    "    alt.Y('values:Q', title='Number of Examples',\n",
    "         scale=alt.Scale(domain=(0, 1600)),\n",
    "         ),\n",
    "    column=alt.Column('video_part:N', title='Video Part: Session 3.2 (Parents Annotation)'),\n",
    "    color=alt.Color('emotion_zone', scale=alt.Scale(domain=EMOTIONS, range=COLOURS), title='Emotion zones', legend=None)\n",
    "\n",
    ")"
   ]
  },
  {
   "cell_type": "markdown",
   "id": "888889af",
   "metadata": {},
   "source": [
    "# 4.1 P"
   ]
  },
  {
   "cell_type": "code",
   "execution_count": 15,
   "id": "44400e0d",
   "metadata": {},
   "outputs": [
    {
     "name": "stdout",
     "output_type": "stream",
     "text": [
      "   green  blue  yellow  red  video_part\n",
      "0   1301   200       0    0           1\n",
      "1    986   452      63    0           2\n",
      "2    357   260     619  265           3\n",
      "3    808   562     118   13           4\n",
      "4   1031     0       0    0           5\n"
     ]
    },
    {
     "name": "stderr",
     "output_type": "stream",
     "text": [
      "/Users/annanda/.virtualenvs/dataset_statistics/lib/python3.10/site-packages/altair/utils/core.py:317: FutureWarning: iteritems is deprecated and will be removed in a future version. Use .items instead.\n",
      "  for col_name, dtype in df.dtypes.iteritems():\n"
     ]
    },
    {
     "data": {
      "text/html": [
       "\n",
       "<div id=\"altair-viz-8af24c42f9f44fcfb84dab728771cad6\"></div>\n",
       "<script type=\"text/javascript\">\n",
       "  var VEGA_DEBUG = (typeof VEGA_DEBUG == \"undefined\") ? {} : VEGA_DEBUG;\n",
       "  (function(spec, embedOpt){\n",
       "    let outputDiv = document.currentScript.previousElementSibling;\n",
       "    if (outputDiv.id !== \"altair-viz-8af24c42f9f44fcfb84dab728771cad6\") {\n",
       "      outputDiv = document.getElementById(\"altair-viz-8af24c42f9f44fcfb84dab728771cad6\");\n",
       "    }\n",
       "    const paths = {\n",
       "      \"vega\": \"https://cdn.jsdelivr.net/npm//vega@5?noext\",\n",
       "      \"vega-lib\": \"https://cdn.jsdelivr.net/npm//vega-lib?noext\",\n",
       "      \"vega-lite\": \"https://cdn.jsdelivr.net/npm//vega-lite@4.17.0?noext\",\n",
       "      \"vega-embed\": \"https://cdn.jsdelivr.net/npm//vega-embed@6?noext\",\n",
       "    };\n",
       "\n",
       "    function maybeLoadScript(lib, version) {\n",
       "      var key = `${lib.replace(\"-\", \"\")}_version`;\n",
       "      return (VEGA_DEBUG[key] == version) ?\n",
       "        Promise.resolve(paths[lib]) :\n",
       "        new Promise(function(resolve, reject) {\n",
       "          var s = document.createElement('script');\n",
       "          document.getElementsByTagName(\"head\")[0].appendChild(s);\n",
       "          s.async = true;\n",
       "          s.onload = () => {\n",
       "            VEGA_DEBUG[key] = version;\n",
       "            return resolve(paths[lib]);\n",
       "          };\n",
       "          s.onerror = () => reject(`Error loading script: ${paths[lib]}`);\n",
       "          s.src = paths[lib];\n",
       "        });\n",
       "    }\n",
       "\n",
       "    function showError(err) {\n",
       "      outputDiv.innerHTML = `<div class=\"error\" style=\"color:red;\">${err}</div>`;\n",
       "      throw err;\n",
       "    }\n",
       "\n",
       "    function displayChart(vegaEmbed) {\n",
       "      vegaEmbed(outputDiv, spec, embedOpt)\n",
       "        .catch(err => showError(`Javascript Error: ${err.message}<br>This usually means there's a typo in your chart specification. See the javascript console for the full traceback.`));\n",
       "    }\n",
       "\n",
       "    if(typeof define === \"function\" && define.amd) {\n",
       "      requirejs.config({paths});\n",
       "      require([\"vega-embed\"], displayChart, err => showError(`Error loading script: ${err.message}`));\n",
       "    } else {\n",
       "      maybeLoadScript(\"vega\", \"5\")\n",
       "        .then(() => maybeLoadScript(\"vega-lite\", \"4.17.0\"))\n",
       "        .then(() => maybeLoadScript(\"vega-embed\", \"6\"))\n",
       "        .catch(showError)\n",
       "        .then(() => displayChart(vegaEmbed));\n",
       "    }\n",
       "  })({\"config\": {\"view\": {\"continuousWidth\": 400, \"continuousHeight\": 300}}, \"data\": {\"name\": \"data-16eec810c7f5694bd6495bb21543bf70\"}, \"mark\": \"bar\", \"encoding\": {\"color\": {\"field\": \"emotion_zone\", \"legend\": null, \"scale\": {\"domain\": [\"green\", \"yellow\", \"red\", \"blue\"], \"range\": [\"green\", \"yellow\", \"red\", \"blue\"]}, \"title\": \"Emotion zones\", \"type\": \"nominal\"}, \"column\": {\"field\": \"video_part\", \"title\": \"Video Part: Session 4.1 (Parents Annotation)\", \"type\": \"nominal\"}, \"x\": {\"field\": \"emotion_zone\", \"sort\": [\"green\", \"yellow\", \"red\", \"blue\"], \"title\": \"Emotions\", \"type\": \"nominal\"}, \"y\": {\"field\": \"values\", \"scale\": {\"domain\": [0, 1600]}, \"title\": \"Number of Examples\", \"type\": \"quantitative\"}}, \"$schema\": \"https://vega.github.io/schema/vega-lite/v4.17.0.json\", \"datasets\": {\"data-16eec810c7f5694bd6495bb21543bf70\": [{\"video_part\": 1, \"emotion_zone\": \"green\", \"values\": 1301}, {\"video_part\": 2, \"emotion_zone\": \"green\", \"values\": 986}, {\"video_part\": 3, \"emotion_zone\": \"green\", \"values\": 357}, {\"video_part\": 4, \"emotion_zone\": \"green\", \"values\": 808}, {\"video_part\": 5, \"emotion_zone\": \"green\", \"values\": 1031}, {\"video_part\": 1, \"emotion_zone\": \"blue\", \"values\": 200}, {\"video_part\": 2, \"emotion_zone\": \"blue\", \"values\": 452}, {\"video_part\": 3, \"emotion_zone\": \"blue\", \"values\": 260}, {\"video_part\": 4, \"emotion_zone\": \"blue\", \"values\": 562}, {\"video_part\": 5, \"emotion_zone\": \"blue\", \"values\": 0}, {\"video_part\": 1, \"emotion_zone\": \"yellow\", \"values\": 0}, {\"video_part\": 2, \"emotion_zone\": \"yellow\", \"values\": 63}, {\"video_part\": 3, \"emotion_zone\": \"yellow\", \"values\": 619}, {\"video_part\": 4, \"emotion_zone\": \"yellow\", \"values\": 118}, {\"video_part\": 5, \"emotion_zone\": \"yellow\", \"values\": 0}, {\"video_part\": 1, \"emotion_zone\": \"red\", \"values\": 0}, {\"video_part\": 2, \"emotion_zone\": \"red\", \"values\": 0}, {\"video_part\": 3, \"emotion_zone\": \"red\", \"values\": 265}, {\"video_part\": 4, \"emotion_zone\": \"red\", \"values\": 13}, {\"video_part\": 5, \"emotion_zone\": \"red\", \"values\": 0}]}}, {\"mode\": \"vega-lite\"});\n",
       "</script>"
      ],
      "text/plain": [
       "alt.Chart(...)"
      ]
     },
     "execution_count": 15,
     "metadata": {},
     "output_type": "execute_result"
    }
   ],
   "source": [
    "dataframes_21 = add_video_part_column_to_dataframes(dataframes_41)\n",
    "\n",
    "dataframes_21_dict = create_whole_session_dict_values(dataframes_21)\n",
    "\n",
    "df_session_21 = pd.DataFrame(dataframes_21_dict)\n",
    "print(df_session_21)\n",
    "\n",
    "\n",
    "# Using pandas function to transform from wide format to long format, so Altair can work better\n",
    "source_21 = df_session_21.melt(\"video_part\", var_name=\"emotion_zone\", value_name='values')\n",
    "\n",
    "alt.Chart(source_21).mark_bar().encode(\n",
    "    alt.X('emotion_zone:N', sort=COLOURS, title='Emotions'),\n",
    "    alt.Y('values:Q', title='Number of Examples',\n",
    "         scale=alt.Scale(domain=(0, 1600)),\n",
    "         ),\n",
    "    column=alt.Column('video_part:N', title='Video Part: Session 4.1 (Parents Annotation)'),\n",
    "    color=alt.Color('emotion_zone', scale=alt.Scale(domain=EMOTIONS, range=COLOURS), title='Emotion zones', legend=None)\n",
    "\n",
    ")"
   ]
  },
  {
   "cell_type": "markdown",
   "id": "6cf54990",
   "metadata": {},
   "source": [
    "# 4.2 P"
   ]
  },
  {
   "cell_type": "code",
   "execution_count": 16,
   "id": "49f58fa6",
   "metadata": {
    "pycharm": {
     "name": "#%%\n"
    }
   },
   "outputs": [
    {
     "name": "stdout",
     "output_type": "stream",
     "text": [
      "   green  blue  yellow  red  video_part\n",
      "0   1328   173       0    0           1\n",
      "1   1220     0     258   23           2\n",
      "2    531    83     474  413           3\n",
      "3    445   499     557    0           4\n",
      "4   1044   232       0    0           5\n"
     ]
    },
    {
     "name": "stderr",
     "output_type": "stream",
     "text": [
      "/Users/annanda/.virtualenvs/dataset_statistics/lib/python3.10/site-packages/altair/utils/core.py:317: FutureWarning: iteritems is deprecated and will be removed in a future version. Use .items instead.\n",
      "  for col_name, dtype in df.dtypes.iteritems():\n"
     ]
    },
    {
     "data": {
      "text/html": [
       "\n",
       "<div id=\"altair-viz-86013e8aea364b3ab3b9792f19c986a0\"></div>\n",
       "<script type=\"text/javascript\">\n",
       "  var VEGA_DEBUG = (typeof VEGA_DEBUG == \"undefined\") ? {} : VEGA_DEBUG;\n",
       "  (function(spec, embedOpt){\n",
       "    let outputDiv = document.currentScript.previousElementSibling;\n",
       "    if (outputDiv.id !== \"altair-viz-86013e8aea364b3ab3b9792f19c986a0\") {\n",
       "      outputDiv = document.getElementById(\"altair-viz-86013e8aea364b3ab3b9792f19c986a0\");\n",
       "    }\n",
       "    const paths = {\n",
       "      \"vega\": \"https://cdn.jsdelivr.net/npm//vega@5?noext\",\n",
       "      \"vega-lib\": \"https://cdn.jsdelivr.net/npm//vega-lib?noext\",\n",
       "      \"vega-lite\": \"https://cdn.jsdelivr.net/npm//vega-lite@4.17.0?noext\",\n",
       "      \"vega-embed\": \"https://cdn.jsdelivr.net/npm//vega-embed@6?noext\",\n",
       "    };\n",
       "\n",
       "    function maybeLoadScript(lib, version) {\n",
       "      var key = `${lib.replace(\"-\", \"\")}_version`;\n",
       "      return (VEGA_DEBUG[key] == version) ?\n",
       "        Promise.resolve(paths[lib]) :\n",
       "        new Promise(function(resolve, reject) {\n",
       "          var s = document.createElement('script');\n",
       "          document.getElementsByTagName(\"head\")[0].appendChild(s);\n",
       "          s.async = true;\n",
       "          s.onload = () => {\n",
       "            VEGA_DEBUG[key] = version;\n",
       "            return resolve(paths[lib]);\n",
       "          };\n",
       "          s.onerror = () => reject(`Error loading script: ${paths[lib]}`);\n",
       "          s.src = paths[lib];\n",
       "        });\n",
       "    }\n",
       "\n",
       "    function showError(err) {\n",
       "      outputDiv.innerHTML = `<div class=\"error\" style=\"color:red;\">${err}</div>`;\n",
       "      throw err;\n",
       "    }\n",
       "\n",
       "    function displayChart(vegaEmbed) {\n",
       "      vegaEmbed(outputDiv, spec, embedOpt)\n",
       "        .catch(err => showError(`Javascript Error: ${err.message}<br>This usually means there's a typo in your chart specification. See the javascript console for the full traceback.`));\n",
       "    }\n",
       "\n",
       "    if(typeof define === \"function\" && define.amd) {\n",
       "      requirejs.config({paths});\n",
       "      require([\"vega-embed\"], displayChart, err => showError(`Error loading script: ${err.message}`));\n",
       "    } else {\n",
       "      maybeLoadScript(\"vega\", \"5\")\n",
       "        .then(() => maybeLoadScript(\"vega-lite\", \"4.17.0\"))\n",
       "        .then(() => maybeLoadScript(\"vega-embed\", \"6\"))\n",
       "        .catch(showError)\n",
       "        .then(() => displayChart(vegaEmbed));\n",
       "    }\n",
       "  })({\"config\": {\"view\": {\"continuousWidth\": 400, \"continuousHeight\": 300}}, \"data\": {\"name\": \"data-7d141e25ce6070c741736abb70e5b540\"}, \"mark\": \"bar\", \"encoding\": {\"color\": {\"field\": \"emotion_zone\", \"legend\": null, \"scale\": {\"domain\": [\"green\", \"yellow\", \"red\", \"blue\"], \"range\": [\"green\", \"yellow\", \"red\", \"blue\"]}, \"title\": \"Emotion zones\", \"type\": \"nominal\"}, \"column\": {\"field\": \"video_part\", \"title\": \"Video Part: Session 4.2 (Parents Annotation)\", \"type\": \"nominal\"}, \"x\": {\"field\": \"emotion_zone\", \"sort\": [\"green\", \"yellow\", \"red\", \"blue\"], \"title\": \"Emotions\", \"type\": \"nominal\"}, \"y\": {\"field\": \"values\", \"scale\": {\"domain\": [0, 1600]}, \"title\": \"Number of Examples\", \"type\": \"quantitative\"}}, \"$schema\": \"https://vega.github.io/schema/vega-lite/v4.17.0.json\", \"datasets\": {\"data-7d141e25ce6070c741736abb70e5b540\": [{\"video_part\": 1, \"emotion_zone\": \"green\", \"values\": 1328}, {\"video_part\": 2, \"emotion_zone\": \"green\", \"values\": 1220}, {\"video_part\": 3, \"emotion_zone\": \"green\", \"values\": 531}, {\"video_part\": 4, \"emotion_zone\": \"green\", \"values\": 445}, {\"video_part\": 5, \"emotion_zone\": \"green\", \"values\": 1044}, {\"video_part\": 1, \"emotion_zone\": \"blue\", \"values\": 173}, {\"video_part\": 2, \"emotion_zone\": \"blue\", \"values\": 0}, {\"video_part\": 3, \"emotion_zone\": \"blue\", \"values\": 83}, {\"video_part\": 4, \"emotion_zone\": \"blue\", \"values\": 499}, {\"video_part\": 5, \"emotion_zone\": \"blue\", \"values\": 232}, {\"video_part\": 1, \"emotion_zone\": \"yellow\", \"values\": 0}, {\"video_part\": 2, \"emotion_zone\": \"yellow\", \"values\": 258}, {\"video_part\": 3, \"emotion_zone\": \"yellow\", \"values\": 474}, {\"video_part\": 4, \"emotion_zone\": \"yellow\", \"values\": 557}, {\"video_part\": 5, \"emotion_zone\": \"yellow\", \"values\": 0}, {\"video_part\": 1, \"emotion_zone\": \"red\", \"values\": 0}, {\"video_part\": 2, \"emotion_zone\": \"red\", \"values\": 23}, {\"video_part\": 3, \"emotion_zone\": \"red\", \"values\": 413}, {\"video_part\": 4, \"emotion_zone\": \"red\", \"values\": 0}, {\"video_part\": 5, \"emotion_zone\": \"red\", \"values\": 0}]}}, {\"mode\": \"vega-lite\"});\n",
       "</script>"
      ],
      "text/plain": [
       "alt.Chart(...)"
      ]
     },
     "execution_count": 16,
     "metadata": {},
     "output_type": "execute_result"
    }
   ],
   "source": [
    "dataframes_21 = add_video_part_column_to_dataframes(dataframes_42)\n",
    "\n",
    "dataframes_21_dict = create_whole_session_dict_values(dataframes_21)\n",
    "\n",
    "df_session_21 = pd.DataFrame(dataframes_21_dict)\n",
    "print(df_session_21)\n",
    "\n",
    "\n",
    "# Using pandas function to transform from wide format to long format, so Altair can work better\n",
    "source_21 = df_session_21.melt(\"video_part\", var_name=\"emotion_zone\", value_name='values')\n",
    "\n",
    "alt.Chart(source_21).mark_bar().encode(\n",
    "    alt.X('emotion_zone:N', sort=COLOURS, title='Emotions'),\n",
    "    alt.Y('values:Q', title='Number of Examples',\n",
    "         scale=alt.Scale(domain=(0, 1600)),\n",
    "         ),\n",
    "    column=alt.Column('video_part:N', title='Video Part: Session 4.2 (Parents Annotation)'),\n",
    "    color=alt.Color('emotion_zone', scale=alt.Scale(domain=EMOTIONS, range=COLOURS), title='Emotion zones', legend=None)\n",
    "\n",
    ")"
   ]
  },
  {
   "cell_type": "markdown",
   "id": "488f85a8",
   "metadata": {},
   "source": [
    "# Specialists"
   ]
  },
  {
   "cell_type": "markdown",
   "id": "b8aacc19",
   "metadata": {},
   "source": [
    "# 1.1 S"
   ]
  },
  {
   "cell_type": "code",
   "execution_count": 37,
   "id": "d3a8b7ee",
   "metadata": {
    "pycharm": {
     "name": "#%%\n"
    }
   },
   "outputs": [
    {
     "name": "stdout",
     "output_type": "stream",
     "text": [
      "   green  blue  yellow  red  video_part\n",
      "0   1244     0     187    0           1\n",
      "1   1384    84      33    0           2\n",
      "2    926    97     466   12           3\n",
      "3    474     0     738  289           4\n",
      "4    404   454     511  132           5\n",
      "5    280  1221       0    0           6\n",
      "6    556     0       0    0           7\n",
      "   red\n",
      "0    0\n",
      "1    0\n",
      "2   12\n",
      "3  289\n",
      "4  132\n",
      "5    0\n",
      "6    0\n"
     ]
    },
    {
     "name": "stderr",
     "output_type": "stream",
     "text": [
      "/Users/annanda/.virtualenvs/dataset_statistics/lib/python3.10/site-packages/altair/utils/core.py:317: FutureWarning: iteritems is deprecated and will be removed in a future version. Use .items instead.\n",
      "  for col_name, dtype in df.dtypes.iteritems():\n"
     ]
    },
    {
     "data": {
      "text/html": [
       "\n",
       "<div id=\"altair-viz-6ea171231fd2443c9bb32b8c9b20ad9f\"></div>\n",
       "<script type=\"text/javascript\">\n",
       "  var VEGA_DEBUG = (typeof VEGA_DEBUG == \"undefined\") ? {} : VEGA_DEBUG;\n",
       "  (function(spec, embedOpt){\n",
       "    let outputDiv = document.currentScript.previousElementSibling;\n",
       "    if (outputDiv.id !== \"altair-viz-6ea171231fd2443c9bb32b8c9b20ad9f\") {\n",
       "      outputDiv = document.getElementById(\"altair-viz-6ea171231fd2443c9bb32b8c9b20ad9f\");\n",
       "    }\n",
       "    const paths = {\n",
       "      \"vega\": \"https://cdn.jsdelivr.net/npm//vega@5?noext\",\n",
       "      \"vega-lib\": \"https://cdn.jsdelivr.net/npm//vega-lib?noext\",\n",
       "      \"vega-lite\": \"https://cdn.jsdelivr.net/npm//vega-lite@4.17.0?noext\",\n",
       "      \"vega-embed\": \"https://cdn.jsdelivr.net/npm//vega-embed@6?noext\",\n",
       "    };\n",
       "\n",
       "    function maybeLoadScript(lib, version) {\n",
       "      var key = `${lib.replace(\"-\", \"\")}_version`;\n",
       "      return (VEGA_DEBUG[key] == version) ?\n",
       "        Promise.resolve(paths[lib]) :\n",
       "        new Promise(function(resolve, reject) {\n",
       "          var s = document.createElement('script');\n",
       "          document.getElementsByTagName(\"head\")[0].appendChild(s);\n",
       "          s.async = true;\n",
       "          s.onload = () => {\n",
       "            VEGA_DEBUG[key] = version;\n",
       "            return resolve(paths[lib]);\n",
       "          };\n",
       "          s.onerror = () => reject(`Error loading script: ${paths[lib]}`);\n",
       "          s.src = paths[lib];\n",
       "        });\n",
       "    }\n",
       "\n",
       "    function showError(err) {\n",
       "      outputDiv.innerHTML = `<div class=\"error\" style=\"color:red;\">${err}</div>`;\n",
       "      throw err;\n",
       "    }\n",
       "\n",
       "    function displayChart(vegaEmbed) {\n",
       "      vegaEmbed(outputDiv, spec, embedOpt)\n",
       "        .catch(err => showError(`Javascript Error: ${err.message}<br>This usually means there's a typo in your chart specification. See the javascript console for the full traceback.`));\n",
       "    }\n",
       "\n",
       "    if(typeof define === \"function\" && define.amd) {\n",
       "      requirejs.config({paths});\n",
       "      require([\"vega-embed\"], displayChart, err => showError(`Error loading script: ${err.message}`));\n",
       "    } else {\n",
       "      maybeLoadScript(\"vega\", \"5\")\n",
       "        .then(() => maybeLoadScript(\"vega-lite\", \"4.17.0\"))\n",
       "        .then(() => maybeLoadScript(\"vega-embed\", \"6\"))\n",
       "        .catch(showError)\n",
       "        .then(() => displayChart(vegaEmbed));\n",
       "    }\n",
       "  })({\"config\": {\"view\": {\"continuousWidth\": 400, \"continuousHeight\": 300}}, \"data\": {\"name\": \"data-00c48580f416265a4847ec2ab4d4436f\"}, \"mark\": \"bar\", \"encoding\": {\"color\": {\"field\": \"emotion_zone\", \"legend\": null, \"scale\": {\"domain\": [\"green\", \"yellow\", \"red\", \"blue\"], \"range\": [\"green\", \"yellow\", \"red\", \"blue\"]}, \"title\": \"Emotion zones\", \"type\": \"nominal\"}, \"column\": {\"field\": \"video_part\", \"title\": \"Video Part: Session 1.1 (Specialist Annotation)\", \"type\": \"nominal\"}, \"x\": {\"field\": \"emotion_zone\", \"sort\": [\"green\", \"yellow\", \"red\", \"blue\"], \"title\": \"Emotions\", \"type\": \"nominal\"}, \"y\": {\"field\": \"values\", \"scale\": {\"domain\": [0, 1600]}, \"title\": \"Number of Emotions\", \"type\": \"quantitative\"}}, \"$schema\": \"https://vega.github.io/schema/vega-lite/v4.17.0.json\", \"datasets\": {\"data-00c48580f416265a4847ec2ab4d4436f\": [{\"video_part\": 1, \"emotion_zone\": \"green\", \"values\": 1244}, {\"video_part\": 2, \"emotion_zone\": \"green\", \"values\": 1384}, {\"video_part\": 3, \"emotion_zone\": \"green\", \"values\": 926}, {\"video_part\": 4, \"emotion_zone\": \"green\", \"values\": 474}, {\"video_part\": 5, \"emotion_zone\": \"green\", \"values\": 404}, {\"video_part\": 6, \"emotion_zone\": \"green\", \"values\": 280}, {\"video_part\": 7, \"emotion_zone\": \"green\", \"values\": 556}, {\"video_part\": 1, \"emotion_zone\": \"blue\", \"values\": 0}, {\"video_part\": 2, \"emotion_zone\": \"blue\", \"values\": 84}, {\"video_part\": 3, \"emotion_zone\": \"blue\", \"values\": 97}, {\"video_part\": 4, \"emotion_zone\": \"blue\", \"values\": 0}, {\"video_part\": 5, \"emotion_zone\": \"blue\", \"values\": 454}, {\"video_part\": 6, \"emotion_zone\": \"blue\", \"values\": 1221}, {\"video_part\": 7, \"emotion_zone\": \"blue\", \"values\": 0}, {\"video_part\": 1, \"emotion_zone\": \"yellow\", \"values\": 187}, {\"video_part\": 2, \"emotion_zone\": \"yellow\", \"values\": 33}, {\"video_part\": 3, \"emotion_zone\": \"yellow\", \"values\": 466}, {\"video_part\": 4, \"emotion_zone\": \"yellow\", \"values\": 738}, {\"video_part\": 5, \"emotion_zone\": \"yellow\", \"values\": 511}, {\"video_part\": 6, \"emotion_zone\": \"yellow\", \"values\": 0}, {\"video_part\": 7, \"emotion_zone\": \"yellow\", \"values\": 0}, {\"video_part\": 1, \"emotion_zone\": \"red\", \"values\": 0}, {\"video_part\": 2, \"emotion_zone\": \"red\", \"values\": 0}, {\"video_part\": 3, \"emotion_zone\": \"red\", \"values\": 12}, {\"video_part\": 4, \"emotion_zone\": \"red\", \"values\": 289}, {\"video_part\": 5, \"emotion_zone\": \"red\", \"values\": 132}, {\"video_part\": 6, \"emotion_zone\": \"red\", \"values\": 0}, {\"video_part\": 7, \"emotion_zone\": \"red\", \"values\": 0}]}}, {\"mode\": \"vega-lite\"});\n",
       "</script>"
      ],
      "text/plain": [
       "alt.Chart(...)"
      ]
     },
     "execution_count": 37,
     "metadata": {},
     "output_type": "execute_result"
    }
   ],
   "source": [
    "dataframes_42 = add_video_part_column_to_dataframes(dataframes_11_specialist)\n",
    "\n",
    "dataframes_42_dict = create_whole_session_dict_values(dataframes_42)\n",
    "\n",
    "df_session_42 = pd.DataFrame(dataframes_42_dict)\n",
    "print(df_session_42)\n",
    "print(df_session_42[['red']])\n",
    "\n",
    "\n",
    "# Using pandas function to transform from wide format to long format, so Altair can work better\n",
    "source_42 = df_session_42.melt(\"video_part\", var_name=\"emotion_zone\", value_name='values')\n",
    "\n",
    "alt.Chart(source_42).mark_bar().encode(\n",
    "    alt.X('emotion_zone:N', sort=COLOURS, title=\"Emotions\"),\n",
    "    alt.Y('values:Q', title='Number of Emotions',\n",
    "         scale=alt.Scale(domain=(0, 1600)),\n",
    "         ),\n",
    "    column=alt.Column('video_part:N', title='Video Part: Session 1.1 (Specialist Annotation)'),\n",
    "    color=alt.Color('emotion_zone', scale=alt.Scale(domain=EMOTIONS, range=COLOURS), title='Emotion zones', legend=None)\n",
    "\n",
    ")"
   ]
  },
  {
   "cell_type": "markdown",
   "id": "d151daa1",
   "metadata": {},
   "source": [
    "# 2.1 S"
   ]
  },
  {
   "cell_type": "code",
   "execution_count": 36,
   "id": "3a4773f6",
   "metadata": {
    "pycharm": {
     "name": "#%%\n"
    }
   },
   "outputs": [
    {
     "name": "stdout",
     "output_type": "stream",
     "text": [
      "   green  blue  yellow  red  video_part\n",
      "0   1501     0       0    0           1\n",
      "1    805   324     304   68           2\n",
      "2   1046    65     390    0           3\n",
      "3    573   604     229   95           4\n",
      "4    959   542       0    0           5\n",
      "5    816     0       0    0           6\n",
      "   red\n",
      "0    0\n",
      "1   68\n",
      "2    0\n",
      "3   95\n",
      "4    0\n",
      "5    0\n"
     ]
    },
    {
     "name": "stderr",
     "output_type": "stream",
     "text": [
      "/Users/annanda/.virtualenvs/dataset_statistics/lib/python3.10/site-packages/altair/utils/core.py:317: FutureWarning: iteritems is deprecated and will be removed in a future version. Use .items instead.\n",
      "  for col_name, dtype in df.dtypes.iteritems():\n"
     ]
    },
    {
     "data": {
      "text/html": [
       "\n",
       "<div id=\"altair-viz-74270d40ff7f4667823e9775ad51beed\"></div>\n",
       "<script type=\"text/javascript\">\n",
       "  var VEGA_DEBUG = (typeof VEGA_DEBUG == \"undefined\") ? {} : VEGA_DEBUG;\n",
       "  (function(spec, embedOpt){\n",
       "    let outputDiv = document.currentScript.previousElementSibling;\n",
       "    if (outputDiv.id !== \"altair-viz-74270d40ff7f4667823e9775ad51beed\") {\n",
       "      outputDiv = document.getElementById(\"altair-viz-74270d40ff7f4667823e9775ad51beed\");\n",
       "    }\n",
       "    const paths = {\n",
       "      \"vega\": \"https://cdn.jsdelivr.net/npm//vega@5?noext\",\n",
       "      \"vega-lib\": \"https://cdn.jsdelivr.net/npm//vega-lib?noext\",\n",
       "      \"vega-lite\": \"https://cdn.jsdelivr.net/npm//vega-lite@4.17.0?noext\",\n",
       "      \"vega-embed\": \"https://cdn.jsdelivr.net/npm//vega-embed@6?noext\",\n",
       "    };\n",
       "\n",
       "    function maybeLoadScript(lib, version) {\n",
       "      var key = `${lib.replace(\"-\", \"\")}_version`;\n",
       "      return (VEGA_DEBUG[key] == version) ?\n",
       "        Promise.resolve(paths[lib]) :\n",
       "        new Promise(function(resolve, reject) {\n",
       "          var s = document.createElement('script');\n",
       "          document.getElementsByTagName(\"head\")[0].appendChild(s);\n",
       "          s.async = true;\n",
       "          s.onload = () => {\n",
       "            VEGA_DEBUG[key] = version;\n",
       "            return resolve(paths[lib]);\n",
       "          };\n",
       "          s.onerror = () => reject(`Error loading script: ${paths[lib]}`);\n",
       "          s.src = paths[lib];\n",
       "        });\n",
       "    }\n",
       "\n",
       "    function showError(err) {\n",
       "      outputDiv.innerHTML = `<div class=\"error\" style=\"color:red;\">${err}</div>`;\n",
       "      throw err;\n",
       "    }\n",
       "\n",
       "    function displayChart(vegaEmbed) {\n",
       "      vegaEmbed(outputDiv, spec, embedOpt)\n",
       "        .catch(err => showError(`Javascript Error: ${err.message}<br>This usually means there's a typo in your chart specification. See the javascript console for the full traceback.`));\n",
       "    }\n",
       "\n",
       "    if(typeof define === \"function\" && define.amd) {\n",
       "      requirejs.config({paths});\n",
       "      require([\"vega-embed\"], displayChart, err => showError(`Error loading script: ${err.message}`));\n",
       "    } else {\n",
       "      maybeLoadScript(\"vega\", \"5\")\n",
       "        .then(() => maybeLoadScript(\"vega-lite\", \"4.17.0\"))\n",
       "        .then(() => maybeLoadScript(\"vega-embed\", \"6\"))\n",
       "        .catch(showError)\n",
       "        .then(() => displayChart(vegaEmbed));\n",
       "    }\n",
       "  })({\"config\": {\"view\": {\"continuousWidth\": 400, \"continuousHeight\": 300}}, \"data\": {\"name\": \"data-419a522596d87fc74bd2d4f6d0b8c665\"}, \"mark\": \"bar\", \"encoding\": {\"color\": {\"field\": \"emotion_zone\", \"legend\": null, \"scale\": {\"domain\": [\"green\", \"yellow\", \"red\", \"blue\"], \"range\": [\"green\", \"yellow\", \"red\", \"blue\"]}, \"title\": \"Emotion zones\", \"type\": \"nominal\"}, \"column\": {\"field\": \"video_part\", \"title\": \"Video Part: Session 2.1 (Specialist Annotation)\", \"type\": \"nominal\"}, \"x\": {\"field\": \"emotion_zone\", \"sort\": [\"green\", \"yellow\", \"red\", \"blue\"], \"title\": \"Emotions\", \"type\": \"nominal\"}, \"y\": {\"field\": \"values\", \"scale\": {\"domain\": [0, 1600]}, \"title\": \"Number of Emotions\", \"type\": \"quantitative\"}}, \"$schema\": \"https://vega.github.io/schema/vega-lite/v4.17.0.json\", \"datasets\": {\"data-419a522596d87fc74bd2d4f6d0b8c665\": [{\"video_part\": 1, \"emotion_zone\": \"green\", \"values\": 1501}, {\"video_part\": 2, \"emotion_zone\": \"green\", \"values\": 805}, {\"video_part\": 3, \"emotion_zone\": \"green\", \"values\": 1046}, {\"video_part\": 4, \"emotion_zone\": \"green\", \"values\": 573}, {\"video_part\": 5, \"emotion_zone\": \"green\", \"values\": 959}, {\"video_part\": 6, \"emotion_zone\": \"green\", \"values\": 816}, {\"video_part\": 1, \"emotion_zone\": \"blue\", \"values\": 0}, {\"video_part\": 2, \"emotion_zone\": \"blue\", \"values\": 324}, {\"video_part\": 3, \"emotion_zone\": \"blue\", \"values\": 65}, {\"video_part\": 4, \"emotion_zone\": \"blue\", \"values\": 604}, {\"video_part\": 5, \"emotion_zone\": \"blue\", \"values\": 542}, {\"video_part\": 6, \"emotion_zone\": \"blue\", \"values\": 0}, {\"video_part\": 1, \"emotion_zone\": \"yellow\", \"values\": 0}, {\"video_part\": 2, \"emotion_zone\": \"yellow\", \"values\": 304}, {\"video_part\": 3, \"emotion_zone\": \"yellow\", \"values\": 390}, {\"video_part\": 4, \"emotion_zone\": \"yellow\", \"values\": 229}, {\"video_part\": 5, \"emotion_zone\": \"yellow\", \"values\": 0}, {\"video_part\": 6, \"emotion_zone\": \"yellow\", \"values\": 0}, {\"video_part\": 1, \"emotion_zone\": \"red\", \"values\": 0}, {\"video_part\": 2, \"emotion_zone\": \"red\", \"values\": 68}, {\"video_part\": 3, \"emotion_zone\": \"red\", \"values\": 0}, {\"video_part\": 4, \"emotion_zone\": \"red\", \"values\": 95}, {\"video_part\": 5, \"emotion_zone\": \"red\", \"values\": 0}, {\"video_part\": 6, \"emotion_zone\": \"red\", \"values\": 0}]}}, {\"mode\": \"vega-lite\"});\n",
       "</script>"
      ],
      "text/plain": [
       "alt.Chart(...)"
      ]
     },
     "execution_count": 36,
     "metadata": {},
     "output_type": "execute_result"
    }
   ],
   "source": [
    "dataframes_42 = add_video_part_column_to_dataframes(dataframes_21_specialist)\n",
    "\n",
    "dataframes_42_dict = create_whole_session_dict_values(dataframes_42)\n",
    "\n",
    "df_session_42 = pd.DataFrame(dataframes_42_dict)\n",
    "print(df_session_42)\n",
    "print(df_session_42[['red']])\n",
    "\n",
    "\n",
    "# Using pandas function to transform from wide format to long format, so Altair can work better\n",
    "source_42 = df_session_42.melt(\"video_part\", var_name=\"emotion_zone\", value_name='values')\n",
    "\n",
    "alt.Chart(source_42).mark_bar().encode(\n",
    "    alt.X('emotion_zone:N', sort=COLOURS, title=\"Emotions\"),\n",
    "    alt.Y('values:Q', title='Number of Emotions',\n",
    "         scale=alt.Scale(domain=(0, 1600)),\n",
    "         ),\n",
    "    column=alt.Column('video_part:N', title='Video Part: Session 2.1 (Specialist Annotation)'),\n",
    "    color=alt.Color('emotion_zone', scale=alt.Scale(domain=EMOTIONS, range=COLOURS), title='Emotion zones', legend=None)\n",
    "\n",
    ")"
   ]
  },
  {
   "cell_type": "markdown",
   "id": "f311c77d",
   "metadata": {},
   "source": [
    "# 2.2 S"
   ]
  },
  {
   "cell_type": "code",
   "execution_count": 32,
   "id": "651acd67",
   "metadata": {
    "pycharm": {
     "name": "#%%\n"
    }
   },
   "outputs": [
    {
     "name": "stdout",
     "output_type": "stream",
     "text": [
      "   green  blue  yellow  red  video_part\n",
      "0   1501     0       0    0           1\n",
      "1    811     0     544  146           2\n",
      "2   1148   115     238    0           3\n",
      "3    338  1155       8    0           4\n",
      "4   1197   304       0    0           5\n",
      "5    601     0       0    0           6\n",
      "   red\n",
      "0    0\n",
      "1  146\n",
      "2    0\n",
      "3    0\n",
      "4    0\n",
      "5    0\n"
     ]
    },
    {
     "name": "stderr",
     "output_type": "stream",
     "text": [
      "/Users/annanda/.virtualenvs/dataset_statistics/lib/python3.10/site-packages/altair/utils/core.py:317: FutureWarning: iteritems is deprecated and will be removed in a future version. Use .items instead.\n",
      "  for col_name, dtype in df.dtypes.iteritems():\n"
     ]
    },
    {
     "data": {
      "text/html": [
       "\n",
       "<div id=\"altair-viz-3f0af40afadf4779afc37d79ca4c00bd\"></div>\n",
       "<script type=\"text/javascript\">\n",
       "  var VEGA_DEBUG = (typeof VEGA_DEBUG == \"undefined\") ? {} : VEGA_DEBUG;\n",
       "  (function(spec, embedOpt){\n",
       "    let outputDiv = document.currentScript.previousElementSibling;\n",
       "    if (outputDiv.id !== \"altair-viz-3f0af40afadf4779afc37d79ca4c00bd\") {\n",
       "      outputDiv = document.getElementById(\"altair-viz-3f0af40afadf4779afc37d79ca4c00bd\");\n",
       "    }\n",
       "    const paths = {\n",
       "      \"vega\": \"https://cdn.jsdelivr.net/npm//vega@5?noext\",\n",
       "      \"vega-lib\": \"https://cdn.jsdelivr.net/npm//vega-lib?noext\",\n",
       "      \"vega-lite\": \"https://cdn.jsdelivr.net/npm//vega-lite@4.17.0?noext\",\n",
       "      \"vega-embed\": \"https://cdn.jsdelivr.net/npm//vega-embed@6?noext\",\n",
       "    };\n",
       "\n",
       "    function maybeLoadScript(lib, version) {\n",
       "      var key = `${lib.replace(\"-\", \"\")}_version`;\n",
       "      return (VEGA_DEBUG[key] == version) ?\n",
       "        Promise.resolve(paths[lib]) :\n",
       "        new Promise(function(resolve, reject) {\n",
       "          var s = document.createElement('script');\n",
       "          document.getElementsByTagName(\"head\")[0].appendChild(s);\n",
       "          s.async = true;\n",
       "          s.onload = () => {\n",
       "            VEGA_DEBUG[key] = version;\n",
       "            return resolve(paths[lib]);\n",
       "          };\n",
       "          s.onerror = () => reject(`Error loading script: ${paths[lib]}`);\n",
       "          s.src = paths[lib];\n",
       "        });\n",
       "    }\n",
       "\n",
       "    function showError(err) {\n",
       "      outputDiv.innerHTML = `<div class=\"error\" style=\"color:red;\">${err}</div>`;\n",
       "      throw err;\n",
       "    }\n",
       "\n",
       "    function displayChart(vegaEmbed) {\n",
       "      vegaEmbed(outputDiv, spec, embedOpt)\n",
       "        .catch(err => showError(`Javascript Error: ${err.message}<br>This usually means there's a typo in your chart specification. See the javascript console for the full traceback.`));\n",
       "    }\n",
       "\n",
       "    if(typeof define === \"function\" && define.amd) {\n",
       "      requirejs.config({paths});\n",
       "      require([\"vega-embed\"], displayChart, err => showError(`Error loading script: ${err.message}`));\n",
       "    } else {\n",
       "      maybeLoadScript(\"vega\", \"5\")\n",
       "        .then(() => maybeLoadScript(\"vega-lite\", \"4.17.0\"))\n",
       "        .then(() => maybeLoadScript(\"vega-embed\", \"6\"))\n",
       "        .catch(showError)\n",
       "        .then(() => displayChart(vegaEmbed));\n",
       "    }\n",
       "  })({\"config\": {\"view\": {\"continuousWidth\": 400, \"continuousHeight\": 300}}, \"data\": {\"name\": \"data-15a07e2f8834dcb59a4a199728267897\"}, \"mark\": \"bar\", \"encoding\": {\"color\": {\"field\": \"emotion_zone\", \"legend\": null, \"scale\": {\"domain\": [\"green\", \"yellow\", \"red\", \"blue\"], \"range\": [\"green\", \"yellow\", \"red\", \"blue\"]}, \"title\": \"Emotion zones\", \"type\": \"nominal\"}, \"column\": {\"field\": \"video_part\", \"title\": \"Video Part: Session 2.2 (Specialist Annotation)\", \"type\": \"nominal\"}, \"x\": {\"field\": \"emotion_zone\", \"sort\": [\"green\", \"yellow\", \"red\", \"blue\"], \"title\": \"Emotions\", \"type\": \"nominal\"}, \"y\": {\"field\": \"values\", \"scale\": {\"domain\": [0, 1600]}, \"title\": \"Number of Emotions\", \"type\": \"quantitative\"}}, \"$schema\": \"https://vega.github.io/schema/vega-lite/v4.17.0.json\", \"datasets\": {\"data-15a07e2f8834dcb59a4a199728267897\": [{\"video_part\": 1, \"emotion_zone\": \"green\", \"values\": 1501}, {\"video_part\": 2, \"emotion_zone\": \"green\", \"values\": 811}, {\"video_part\": 3, \"emotion_zone\": \"green\", \"values\": 1148}, {\"video_part\": 4, \"emotion_zone\": \"green\", \"values\": 338}, {\"video_part\": 5, \"emotion_zone\": \"green\", \"values\": 1197}, {\"video_part\": 6, \"emotion_zone\": \"green\", \"values\": 601}, {\"video_part\": 1, \"emotion_zone\": \"blue\", \"values\": 0}, {\"video_part\": 2, \"emotion_zone\": \"blue\", \"values\": 0}, {\"video_part\": 3, \"emotion_zone\": \"blue\", \"values\": 115}, {\"video_part\": 4, \"emotion_zone\": \"blue\", \"values\": 1155}, {\"video_part\": 5, \"emotion_zone\": \"blue\", \"values\": 304}, {\"video_part\": 6, \"emotion_zone\": \"blue\", \"values\": 0}, {\"video_part\": 1, \"emotion_zone\": \"yellow\", \"values\": 0}, {\"video_part\": 2, \"emotion_zone\": \"yellow\", \"values\": 544}, {\"video_part\": 3, \"emotion_zone\": \"yellow\", \"values\": 238}, {\"video_part\": 4, \"emotion_zone\": \"yellow\", \"values\": 8}, {\"video_part\": 5, \"emotion_zone\": \"yellow\", \"values\": 0}, {\"video_part\": 6, \"emotion_zone\": \"yellow\", \"values\": 0}, {\"video_part\": 1, \"emotion_zone\": \"red\", \"values\": 0}, {\"video_part\": 2, \"emotion_zone\": \"red\", \"values\": 146}, {\"video_part\": 3, \"emotion_zone\": \"red\", \"values\": 0}, {\"video_part\": 4, \"emotion_zone\": \"red\", \"values\": 0}, {\"video_part\": 5, \"emotion_zone\": \"red\", \"values\": 0}, {\"video_part\": 6, \"emotion_zone\": \"red\", \"values\": 0}]}}, {\"mode\": \"vega-lite\"});\n",
       "</script>"
      ],
      "text/plain": [
       "alt.Chart(...)"
      ]
     },
     "execution_count": 32,
     "metadata": {},
     "output_type": "execute_result"
    }
   ],
   "source": [
    "dataframes_42 = add_video_part_column_to_dataframes(dataframes_22_specialist)\n",
    "\n",
    "dataframes_42_dict = create_whole_session_dict_values(dataframes_42)\n",
    "\n",
    "df_session_42 = pd.DataFrame(dataframes_42_dict)\n",
    "print(df_session_42)\n",
    "print(df_session_42[['red']])\n",
    "\n",
    "\n",
    "# Using pandas function to transform from wide format to long format, so Altair can work better\n",
    "source_42 = df_session_42.melt(\"video_part\", var_name=\"emotion_zone\", value_name='values')\n",
    "\n",
    "alt.Chart(source_42).mark_bar().encode(\n",
    "    alt.X('emotion_zone:N', sort=COLOURS, title=\"Emotions\"),\n",
    "    alt.Y('values:Q', title='Number of Emotions',\n",
    "         scale=alt.Scale(domain=(0, 1600)),\n",
    "         ),\n",
    "    column=alt.Column('video_part:N', title='Video Part: Session 2.2 (Specialist Annotation)'),\n",
    "    color=alt.Color('emotion_zone', scale=alt.Scale(domain=EMOTIONS, range=COLOURS), title='Emotion zones', legend=None)\n",
    "\n",
    ")"
   ]
  },
  {
   "cell_type": "markdown",
   "id": "7c4afc0f",
   "metadata": {},
   "source": [
    "# 3.1 S"
   ]
  },
  {
   "cell_type": "code",
   "execution_count": 30,
   "id": "60db55f3",
   "metadata": {
    "pycharm": {
     "name": "#%%\n"
    }
   },
   "outputs": [
    {
     "name": "stdout",
     "output_type": "stream",
     "text": [
      "   green  blue  yellow  red  video_part\n",
      "0    836     0       0    0           1\n",
      "1   1435     0      66    0           2\n",
      "2    338   583     580    0           3\n",
      "3    812    76     613    0           4\n",
      "4     49  1397      55    0           5\n",
      "5   1311   170      20    0           6\n",
      "6    451     0       0    0           7\n",
      "   red\n",
      "0    0\n",
      "1    0\n",
      "2    0\n",
      "3    0\n",
      "4    0\n",
      "5    0\n",
      "6    0\n"
     ]
    },
    {
     "name": "stderr",
     "output_type": "stream",
     "text": [
      "/Users/annanda/.virtualenvs/dataset_statistics/lib/python3.10/site-packages/altair/utils/core.py:317: FutureWarning: iteritems is deprecated and will be removed in a future version. Use .items instead.\n",
      "  for col_name, dtype in df.dtypes.iteritems():\n"
     ]
    },
    {
     "data": {
      "text/html": [
       "\n",
       "<div id=\"altair-viz-99224f8ebf7a44dba5241aeebdd56885\"></div>\n",
       "<script type=\"text/javascript\">\n",
       "  var VEGA_DEBUG = (typeof VEGA_DEBUG == \"undefined\") ? {} : VEGA_DEBUG;\n",
       "  (function(spec, embedOpt){\n",
       "    let outputDiv = document.currentScript.previousElementSibling;\n",
       "    if (outputDiv.id !== \"altair-viz-99224f8ebf7a44dba5241aeebdd56885\") {\n",
       "      outputDiv = document.getElementById(\"altair-viz-99224f8ebf7a44dba5241aeebdd56885\");\n",
       "    }\n",
       "    const paths = {\n",
       "      \"vega\": \"https://cdn.jsdelivr.net/npm//vega@5?noext\",\n",
       "      \"vega-lib\": \"https://cdn.jsdelivr.net/npm//vega-lib?noext\",\n",
       "      \"vega-lite\": \"https://cdn.jsdelivr.net/npm//vega-lite@4.17.0?noext\",\n",
       "      \"vega-embed\": \"https://cdn.jsdelivr.net/npm//vega-embed@6?noext\",\n",
       "    };\n",
       "\n",
       "    function maybeLoadScript(lib, version) {\n",
       "      var key = `${lib.replace(\"-\", \"\")}_version`;\n",
       "      return (VEGA_DEBUG[key] == version) ?\n",
       "        Promise.resolve(paths[lib]) :\n",
       "        new Promise(function(resolve, reject) {\n",
       "          var s = document.createElement('script');\n",
       "          document.getElementsByTagName(\"head\")[0].appendChild(s);\n",
       "          s.async = true;\n",
       "          s.onload = () => {\n",
       "            VEGA_DEBUG[key] = version;\n",
       "            return resolve(paths[lib]);\n",
       "          };\n",
       "          s.onerror = () => reject(`Error loading script: ${paths[lib]}`);\n",
       "          s.src = paths[lib];\n",
       "        });\n",
       "    }\n",
       "\n",
       "    function showError(err) {\n",
       "      outputDiv.innerHTML = `<div class=\"error\" style=\"color:red;\">${err}</div>`;\n",
       "      throw err;\n",
       "    }\n",
       "\n",
       "    function displayChart(vegaEmbed) {\n",
       "      vegaEmbed(outputDiv, spec, embedOpt)\n",
       "        .catch(err => showError(`Javascript Error: ${err.message}<br>This usually means there's a typo in your chart specification. See the javascript console for the full traceback.`));\n",
       "    }\n",
       "\n",
       "    if(typeof define === \"function\" && define.amd) {\n",
       "      requirejs.config({paths});\n",
       "      require([\"vega-embed\"], displayChart, err => showError(`Error loading script: ${err.message}`));\n",
       "    } else {\n",
       "      maybeLoadScript(\"vega\", \"5\")\n",
       "        .then(() => maybeLoadScript(\"vega-lite\", \"4.17.0\"))\n",
       "        .then(() => maybeLoadScript(\"vega-embed\", \"6\"))\n",
       "        .catch(showError)\n",
       "        .then(() => displayChart(vegaEmbed));\n",
       "    }\n",
       "  })({\"config\": {\"view\": {\"continuousWidth\": 400, \"continuousHeight\": 300}}, \"data\": {\"name\": \"data-95aa2f2a0e87d0d2d5b5c936df5424df\"}, \"mark\": \"bar\", \"encoding\": {\"color\": {\"field\": \"emotion_zone\", \"legend\": null, \"scale\": {\"domain\": [\"green\", \"yellow\", \"red\", \"blue\"], \"range\": [\"green\", \"yellow\", \"red\", \"blue\"]}, \"title\": \"Emotion zones\", \"type\": \"nominal\"}, \"column\": {\"field\": \"video_part\", \"title\": \"Video Part: Session 3.1 (Specialist Annotation)\", \"type\": \"nominal\"}, \"x\": {\"field\": \"emotion_zone\", \"sort\": [\"green\", \"yellow\", \"red\", \"blue\"], \"title\": \"Emotions\", \"type\": \"nominal\"}, \"y\": {\"field\": \"values\", \"scale\": {\"domain\": [0, 1600]}, \"title\": \"Number of Emotions\", \"type\": \"quantitative\"}}, \"$schema\": \"https://vega.github.io/schema/vega-lite/v4.17.0.json\", \"datasets\": {\"data-95aa2f2a0e87d0d2d5b5c936df5424df\": [{\"video_part\": 1, \"emotion_zone\": \"green\", \"values\": 836}, {\"video_part\": 2, \"emotion_zone\": \"green\", \"values\": 1435}, {\"video_part\": 3, \"emotion_zone\": \"green\", \"values\": 338}, {\"video_part\": 4, \"emotion_zone\": \"green\", \"values\": 812}, {\"video_part\": 5, \"emotion_zone\": \"green\", \"values\": 49}, {\"video_part\": 6, \"emotion_zone\": \"green\", \"values\": 1311}, {\"video_part\": 7, \"emotion_zone\": \"green\", \"values\": 451}, {\"video_part\": 1, \"emotion_zone\": \"blue\", \"values\": 0}, {\"video_part\": 2, \"emotion_zone\": \"blue\", \"values\": 0}, {\"video_part\": 3, \"emotion_zone\": \"blue\", \"values\": 583}, {\"video_part\": 4, \"emotion_zone\": \"blue\", \"values\": 76}, {\"video_part\": 5, \"emotion_zone\": \"blue\", \"values\": 1397}, {\"video_part\": 6, \"emotion_zone\": \"blue\", \"values\": 170}, {\"video_part\": 7, \"emotion_zone\": \"blue\", \"values\": 0}, {\"video_part\": 1, \"emotion_zone\": \"yellow\", \"values\": 0}, {\"video_part\": 2, \"emotion_zone\": \"yellow\", \"values\": 66}, {\"video_part\": 3, \"emotion_zone\": \"yellow\", \"values\": 580}, {\"video_part\": 4, \"emotion_zone\": \"yellow\", \"values\": 613}, {\"video_part\": 5, \"emotion_zone\": \"yellow\", \"values\": 55}, {\"video_part\": 6, \"emotion_zone\": \"yellow\", \"values\": 20}, {\"video_part\": 7, \"emotion_zone\": \"yellow\", \"values\": 0}, {\"video_part\": 1, \"emotion_zone\": \"red\", \"values\": 0}, {\"video_part\": 2, \"emotion_zone\": \"red\", \"values\": 0}, {\"video_part\": 3, \"emotion_zone\": \"red\", \"values\": 0}, {\"video_part\": 4, \"emotion_zone\": \"red\", \"values\": 0}, {\"video_part\": 5, \"emotion_zone\": \"red\", \"values\": 0}, {\"video_part\": 6, \"emotion_zone\": \"red\", \"values\": 0}, {\"video_part\": 7, \"emotion_zone\": \"red\", \"values\": 0}]}}, {\"mode\": \"vega-lite\"});\n",
       "</script>"
      ],
      "text/plain": [
       "alt.Chart(...)"
      ]
     },
     "execution_count": 30,
     "metadata": {},
     "output_type": "execute_result"
    }
   ],
   "source": [
    "dataframes_42 = add_video_part_column_to_dataframes(dataframes_31_specialist)\n",
    "\n",
    "dataframes_42_dict = create_whole_session_dict_values(dataframes_42)\n",
    "\n",
    "df_session_42 = pd.DataFrame(dataframes_42_dict)\n",
    "print(df_session_42)\n",
    "print(df_session_42[['red']])\n",
    "\n",
    "\n",
    "# Using pandas function to transform from wide format to long format, so Altair can work better\n",
    "source_42 = df_session_42.melt(\"video_part\", var_name=\"emotion_zone\", value_name='values')\n",
    "\n",
    "alt.Chart(source_42).mark_bar().encode(\n",
    "    alt.X('emotion_zone:N', sort=COLOURS, title=\"Emotions\"),\n",
    "    alt.Y('values:Q', title='Number of Emotions',\n",
    "         scale=alt.Scale(domain=(0, 1600)),\n",
    "         ),\n",
    "    column=alt.Column('video_part:N', title='Video Part: Session 3.1 (Specialist Annotation)'),\n",
    "    color=alt.Color('emotion_zone', scale=alt.Scale(domain=EMOTIONS, range=COLOURS), title='Emotion zones', legend=None)\n",
    "\n",
    ")"
   ]
  },
  {
   "cell_type": "markdown",
   "id": "683804a3",
   "metadata": {},
   "source": [
    "# 3.2 S"
   ]
  },
  {
   "cell_type": "code",
   "execution_count": 28,
   "id": "ca4fbe5e",
   "metadata": {
    "pycharm": {
     "name": "#%%\n"
    }
   },
   "outputs": [
    {
     "name": "stdout",
     "output_type": "stream",
     "text": [
      "   green  blue  yellow  red  video_part\n",
      "0   1482     0      19    0           1\n",
      "1    651   283     567    0           2\n",
      "2    999    73     429    0           3\n",
      "3    212   808     481    0           4\n",
      "4   1202   241      58    0           5\n",
      "5    481     0       0    0           6\n",
      "   red\n",
      "0    0\n",
      "1    0\n",
      "2    0\n",
      "3    0\n",
      "4    0\n",
      "5    0\n"
     ]
    },
    {
     "name": "stderr",
     "output_type": "stream",
     "text": [
      "/Users/annanda/.virtualenvs/dataset_statistics/lib/python3.10/site-packages/altair/utils/core.py:317: FutureWarning: iteritems is deprecated and will be removed in a future version. Use .items instead.\n",
      "  for col_name, dtype in df.dtypes.iteritems():\n"
     ]
    },
    {
     "data": {
      "text/html": [
       "\n",
       "<div id=\"altair-viz-85c5880ca0574eb5b2423617a8881d1d\"></div>\n",
       "<script type=\"text/javascript\">\n",
       "  var VEGA_DEBUG = (typeof VEGA_DEBUG == \"undefined\") ? {} : VEGA_DEBUG;\n",
       "  (function(spec, embedOpt){\n",
       "    let outputDiv = document.currentScript.previousElementSibling;\n",
       "    if (outputDiv.id !== \"altair-viz-85c5880ca0574eb5b2423617a8881d1d\") {\n",
       "      outputDiv = document.getElementById(\"altair-viz-85c5880ca0574eb5b2423617a8881d1d\");\n",
       "    }\n",
       "    const paths = {\n",
       "      \"vega\": \"https://cdn.jsdelivr.net/npm//vega@5?noext\",\n",
       "      \"vega-lib\": \"https://cdn.jsdelivr.net/npm//vega-lib?noext\",\n",
       "      \"vega-lite\": \"https://cdn.jsdelivr.net/npm//vega-lite@4.17.0?noext\",\n",
       "      \"vega-embed\": \"https://cdn.jsdelivr.net/npm//vega-embed@6?noext\",\n",
       "    };\n",
       "\n",
       "    function maybeLoadScript(lib, version) {\n",
       "      var key = `${lib.replace(\"-\", \"\")}_version`;\n",
       "      return (VEGA_DEBUG[key] == version) ?\n",
       "        Promise.resolve(paths[lib]) :\n",
       "        new Promise(function(resolve, reject) {\n",
       "          var s = document.createElement('script');\n",
       "          document.getElementsByTagName(\"head\")[0].appendChild(s);\n",
       "          s.async = true;\n",
       "          s.onload = () => {\n",
       "            VEGA_DEBUG[key] = version;\n",
       "            return resolve(paths[lib]);\n",
       "          };\n",
       "          s.onerror = () => reject(`Error loading script: ${paths[lib]}`);\n",
       "          s.src = paths[lib];\n",
       "        });\n",
       "    }\n",
       "\n",
       "    function showError(err) {\n",
       "      outputDiv.innerHTML = `<div class=\"error\" style=\"color:red;\">${err}</div>`;\n",
       "      throw err;\n",
       "    }\n",
       "\n",
       "    function displayChart(vegaEmbed) {\n",
       "      vegaEmbed(outputDiv, spec, embedOpt)\n",
       "        .catch(err => showError(`Javascript Error: ${err.message}<br>This usually means there's a typo in your chart specification. See the javascript console for the full traceback.`));\n",
       "    }\n",
       "\n",
       "    if(typeof define === \"function\" && define.amd) {\n",
       "      requirejs.config({paths});\n",
       "      require([\"vega-embed\"], displayChart, err => showError(`Error loading script: ${err.message}`));\n",
       "    } else {\n",
       "      maybeLoadScript(\"vega\", \"5\")\n",
       "        .then(() => maybeLoadScript(\"vega-lite\", \"4.17.0\"))\n",
       "        .then(() => maybeLoadScript(\"vega-embed\", \"6\"))\n",
       "        .catch(showError)\n",
       "        .then(() => displayChart(vegaEmbed));\n",
       "    }\n",
       "  })({\"config\": {\"view\": {\"continuousWidth\": 400, \"continuousHeight\": 300}}, \"data\": {\"name\": \"data-0e2a2e22e56912e10ca8c124e606d2d9\"}, \"mark\": \"bar\", \"encoding\": {\"color\": {\"field\": \"emotion_zone\", \"legend\": null, \"scale\": {\"domain\": [\"green\", \"yellow\", \"red\", \"blue\"], \"range\": [\"green\", \"yellow\", \"red\", \"blue\"]}, \"title\": \"Emotion zones\", \"type\": \"nominal\"}, \"column\": {\"field\": \"video_part\", \"title\": \"Video Part: Session 3.2 (Specialist Annotation)\", \"type\": \"nominal\"}, \"x\": {\"field\": \"emotion_zone\", \"sort\": [\"green\", \"yellow\", \"red\", \"blue\"], \"title\": \"Emotions\", \"type\": \"nominal\"}, \"y\": {\"field\": \"values\", \"scale\": {\"domain\": [0, 1600]}, \"title\": \"Number of Emotions\", \"type\": \"quantitative\"}}, \"$schema\": \"https://vega.github.io/schema/vega-lite/v4.17.0.json\", \"datasets\": {\"data-0e2a2e22e56912e10ca8c124e606d2d9\": [{\"video_part\": 1, \"emotion_zone\": \"green\", \"values\": 1482}, {\"video_part\": 2, \"emotion_zone\": \"green\", \"values\": 651}, {\"video_part\": 3, \"emotion_zone\": \"green\", \"values\": 999}, {\"video_part\": 4, \"emotion_zone\": \"green\", \"values\": 212}, {\"video_part\": 5, \"emotion_zone\": \"green\", \"values\": 1202}, {\"video_part\": 6, \"emotion_zone\": \"green\", \"values\": 481}, {\"video_part\": 1, \"emotion_zone\": \"blue\", \"values\": 0}, {\"video_part\": 2, \"emotion_zone\": \"blue\", \"values\": 283}, {\"video_part\": 3, \"emotion_zone\": \"blue\", \"values\": 73}, {\"video_part\": 4, \"emotion_zone\": \"blue\", \"values\": 808}, {\"video_part\": 5, \"emotion_zone\": \"blue\", \"values\": 241}, {\"video_part\": 6, \"emotion_zone\": \"blue\", \"values\": 0}, {\"video_part\": 1, \"emotion_zone\": \"yellow\", \"values\": 19}, {\"video_part\": 2, \"emotion_zone\": \"yellow\", \"values\": 567}, {\"video_part\": 3, \"emotion_zone\": \"yellow\", \"values\": 429}, {\"video_part\": 4, \"emotion_zone\": \"yellow\", \"values\": 481}, {\"video_part\": 5, \"emotion_zone\": \"yellow\", \"values\": 58}, {\"video_part\": 6, \"emotion_zone\": \"yellow\", \"values\": 0}, {\"video_part\": 1, \"emotion_zone\": \"red\", \"values\": 0}, {\"video_part\": 2, \"emotion_zone\": \"red\", \"values\": 0}, {\"video_part\": 3, \"emotion_zone\": \"red\", \"values\": 0}, {\"video_part\": 4, \"emotion_zone\": \"red\", \"values\": 0}, {\"video_part\": 5, \"emotion_zone\": \"red\", \"values\": 0}, {\"video_part\": 6, \"emotion_zone\": \"red\", \"values\": 0}]}}, {\"mode\": \"vega-lite\"});\n",
       "</script>"
      ],
      "text/plain": [
       "alt.Chart(...)"
      ]
     },
     "execution_count": 28,
     "metadata": {},
     "output_type": "execute_result"
    }
   ],
   "source": [
    "dataframes_42 = add_video_part_column_to_dataframes(dataframes_32_specialist)\n",
    "\n",
    "dataframes_42_dict = create_whole_session_dict_values(dataframes_42)\n",
    "\n",
    "df_session_42 = pd.DataFrame(dataframes_42_dict)\n",
    "print(df_session_42)\n",
    "print(df_session_42[['red']])\n",
    "\n",
    "\n",
    "# Using pandas function to transform from wide format to long format, so Altair can work better\n",
    "source_42 = df_session_42.melt(\"video_part\", var_name=\"emotion_zone\", value_name='values')\n",
    "\n",
    "alt.Chart(source_42).mark_bar().encode(\n",
    "    alt.X('emotion_zone:N', sort=COLOURS, title=\"Emotions\"),\n",
    "    alt.Y('values:Q', title='Number of Emotions',\n",
    "         scale=alt.Scale(domain=(0, 1600)),\n",
    "         ),\n",
    "    column=alt.Column('video_part:N', title='Video Part: Session 3.2 (Specialist Annotation)'),\n",
    "    color=alt.Color('emotion_zone', scale=alt.Scale(domain=EMOTIONS, range=COLOURS), title='Emotion zones', legend=None)\n",
    "\n",
    ")"
   ]
  },
  {
   "cell_type": "markdown",
   "id": "70a510ec",
   "metadata": {},
   "source": [
    "# 4.1 S"
   ]
  },
  {
   "cell_type": "code",
   "execution_count": 26,
   "id": "90d81949",
   "metadata": {
    "pycharm": {
     "name": "#%%\n"
    }
   },
   "outputs": [
    {
     "name": "stdout",
     "output_type": "stream",
     "text": [
      "   green  blue  yellow  red  video_part\n",
      "0   1501     0       0    0           1\n",
      "1   1320     0      56  125           2\n",
      "2      0     0    1214  287           3\n",
      "3    538   539     424    0           4\n",
      "4    948    83       0    0           5\n",
      "   red\n",
      "0    0\n",
      "1  125\n",
      "2  287\n",
      "3    0\n",
      "4    0\n"
     ]
    },
    {
     "name": "stderr",
     "output_type": "stream",
     "text": [
      "/Users/annanda/.virtualenvs/dataset_statistics/lib/python3.10/site-packages/altair/utils/core.py:317: FutureWarning: iteritems is deprecated and will be removed in a future version. Use .items instead.\n",
      "  for col_name, dtype in df.dtypes.iteritems():\n"
     ]
    },
    {
     "data": {
      "text/html": [
       "\n",
       "<div id=\"altair-viz-66c78b02c88d44cd9734a57d2db66f94\"></div>\n",
       "<script type=\"text/javascript\">\n",
       "  var VEGA_DEBUG = (typeof VEGA_DEBUG == \"undefined\") ? {} : VEGA_DEBUG;\n",
       "  (function(spec, embedOpt){\n",
       "    let outputDiv = document.currentScript.previousElementSibling;\n",
       "    if (outputDiv.id !== \"altair-viz-66c78b02c88d44cd9734a57d2db66f94\") {\n",
       "      outputDiv = document.getElementById(\"altair-viz-66c78b02c88d44cd9734a57d2db66f94\");\n",
       "    }\n",
       "    const paths = {\n",
       "      \"vega\": \"https://cdn.jsdelivr.net/npm//vega@5?noext\",\n",
       "      \"vega-lib\": \"https://cdn.jsdelivr.net/npm//vega-lib?noext\",\n",
       "      \"vega-lite\": \"https://cdn.jsdelivr.net/npm//vega-lite@4.17.0?noext\",\n",
       "      \"vega-embed\": \"https://cdn.jsdelivr.net/npm//vega-embed@6?noext\",\n",
       "    };\n",
       "\n",
       "    function maybeLoadScript(lib, version) {\n",
       "      var key = `${lib.replace(\"-\", \"\")}_version`;\n",
       "      return (VEGA_DEBUG[key] == version) ?\n",
       "        Promise.resolve(paths[lib]) :\n",
       "        new Promise(function(resolve, reject) {\n",
       "          var s = document.createElement('script');\n",
       "          document.getElementsByTagName(\"head\")[0].appendChild(s);\n",
       "          s.async = true;\n",
       "          s.onload = () => {\n",
       "            VEGA_DEBUG[key] = version;\n",
       "            return resolve(paths[lib]);\n",
       "          };\n",
       "          s.onerror = () => reject(`Error loading script: ${paths[lib]}`);\n",
       "          s.src = paths[lib];\n",
       "        });\n",
       "    }\n",
       "\n",
       "    function showError(err) {\n",
       "      outputDiv.innerHTML = `<div class=\"error\" style=\"color:red;\">${err}</div>`;\n",
       "      throw err;\n",
       "    }\n",
       "\n",
       "    function displayChart(vegaEmbed) {\n",
       "      vegaEmbed(outputDiv, spec, embedOpt)\n",
       "        .catch(err => showError(`Javascript Error: ${err.message}<br>This usually means there's a typo in your chart specification. See the javascript console for the full traceback.`));\n",
       "    }\n",
       "\n",
       "    if(typeof define === \"function\" && define.amd) {\n",
       "      requirejs.config({paths});\n",
       "      require([\"vega-embed\"], displayChart, err => showError(`Error loading script: ${err.message}`));\n",
       "    } else {\n",
       "      maybeLoadScript(\"vega\", \"5\")\n",
       "        .then(() => maybeLoadScript(\"vega-lite\", \"4.17.0\"))\n",
       "        .then(() => maybeLoadScript(\"vega-embed\", \"6\"))\n",
       "        .catch(showError)\n",
       "        .then(() => displayChart(vegaEmbed));\n",
       "    }\n",
       "  })({\"config\": {\"view\": {\"continuousWidth\": 400, \"continuousHeight\": 300}}, \"data\": {\"name\": \"data-72b9285b164fa7375cde519fe6cfd56a\"}, \"mark\": \"bar\", \"encoding\": {\"color\": {\"field\": \"emotion_zone\", \"legend\": null, \"scale\": {\"domain\": [\"green\", \"yellow\", \"red\", \"blue\"], \"range\": [\"green\", \"yellow\", \"red\", \"blue\"]}, \"title\": \"Emotion zones\", \"type\": \"nominal\"}, \"column\": {\"field\": \"video_part\", \"title\": \"Video Part: Session 4.1 (Specialist Annotation)\", \"type\": \"nominal\"}, \"x\": {\"field\": \"emotion_zone\", \"sort\": [\"green\", \"yellow\", \"red\", \"blue\"], \"title\": \"Emotions\", \"type\": \"nominal\"}, \"y\": {\"field\": \"values\", \"scale\": {\"domain\": [0, 1600]}, \"title\": \"Number of Emotions\", \"type\": \"quantitative\"}}, \"$schema\": \"https://vega.github.io/schema/vega-lite/v4.17.0.json\", \"datasets\": {\"data-72b9285b164fa7375cde519fe6cfd56a\": [{\"video_part\": 1, \"emotion_zone\": \"green\", \"values\": 1501}, {\"video_part\": 2, \"emotion_zone\": \"green\", \"values\": 1320}, {\"video_part\": 3, \"emotion_zone\": \"green\", \"values\": 0}, {\"video_part\": 4, \"emotion_zone\": \"green\", \"values\": 538}, {\"video_part\": 5, \"emotion_zone\": \"green\", \"values\": 948}, {\"video_part\": 1, \"emotion_zone\": \"blue\", \"values\": 0}, {\"video_part\": 2, \"emotion_zone\": \"blue\", \"values\": 0}, {\"video_part\": 3, \"emotion_zone\": \"blue\", \"values\": 0}, {\"video_part\": 4, \"emotion_zone\": \"blue\", \"values\": 539}, {\"video_part\": 5, \"emotion_zone\": \"blue\", \"values\": 83}, {\"video_part\": 1, \"emotion_zone\": \"yellow\", \"values\": 0}, {\"video_part\": 2, \"emotion_zone\": \"yellow\", \"values\": 56}, {\"video_part\": 3, \"emotion_zone\": \"yellow\", \"values\": 1214}, {\"video_part\": 4, \"emotion_zone\": \"yellow\", \"values\": 424}, {\"video_part\": 5, \"emotion_zone\": \"yellow\", \"values\": 0}, {\"video_part\": 1, \"emotion_zone\": \"red\", \"values\": 0}, {\"video_part\": 2, \"emotion_zone\": \"red\", \"values\": 125}, {\"video_part\": 3, \"emotion_zone\": \"red\", \"values\": 287}, {\"video_part\": 4, \"emotion_zone\": \"red\", \"values\": 0}, {\"video_part\": 5, \"emotion_zone\": \"red\", \"values\": 0}]}}, {\"mode\": \"vega-lite\"});\n",
       "</script>"
      ],
      "text/plain": [
       "alt.Chart(...)"
      ]
     },
     "execution_count": 26,
     "metadata": {},
     "output_type": "execute_result"
    }
   ],
   "source": [
    "dataframes_42 = add_video_part_column_to_dataframes(dataframes_41_specialist)\n",
    "\n",
    "dataframes_42_dict = create_whole_session_dict_values(dataframes_42)\n",
    "\n",
    "df_session_42 = pd.DataFrame(dataframes_42_dict)\n",
    "print(df_session_42)\n",
    "print(df_session_42[['red']])\n",
    "\n",
    "\n",
    "# Using pandas function to transform from wide format to long format, so Altair can work better\n",
    "source_42 = df_session_42.melt(\"video_part\", var_name=\"emotion_zone\", value_name='values')\n",
    "\n",
    "alt.Chart(source_42).mark_bar().encode(\n",
    "    alt.X('emotion_zone:N', sort=COLOURS, title=\"Emotions\"),\n",
    "    alt.Y('values:Q', title='Number of Emotions',\n",
    "         scale=alt.Scale(domain=(0, 1600)),\n",
    "         ),\n",
    "    column=alt.Column('video_part:N', title='Video Part: Session 4.1 (Specialist Annotation)'),\n",
    "    color=alt.Color('emotion_zone', scale=alt.Scale(domain=EMOTIONS, range=COLOURS), title='Emotion zones', legend=None)\n",
    "\n",
    ")"
   ]
  },
  {
   "cell_type": "markdown",
   "id": "fbcf2140",
   "metadata": {},
   "source": [
    "# 4.2 S"
   ]
  },
  {
   "cell_type": "code",
   "execution_count": 25,
   "id": "61f40a98",
   "metadata": {
    "pycharm": {
     "name": "#%%\n"
    }
   },
   "outputs": [
    {
     "name": "stdout",
     "output_type": "stream",
     "text": [
      "   green  blue  yellow  red  video_part\n",
      "0   1135   366       0    0           1\n",
      "1   1107   213     181    0           2\n",
      "2    100   616     711   74           3\n",
      "3    815   686       0    0           4\n",
      "4    958   318       0    0           5\n",
      "   red\n",
      "0    0\n",
      "1    0\n",
      "2   74\n",
      "3    0\n",
      "4    0\n"
     ]
    },
    {
     "name": "stderr",
     "output_type": "stream",
     "text": [
      "/Users/annanda/.virtualenvs/dataset_statistics/lib/python3.10/site-packages/altair/utils/core.py:317: FutureWarning: iteritems is deprecated and will be removed in a future version. Use .items instead.\n",
      "  for col_name, dtype in df.dtypes.iteritems():\n"
     ]
    },
    {
     "data": {
      "text/html": [
       "\n",
       "<div id=\"altair-viz-3081f2dfc5424b968629eabbd6ecdf86\"></div>\n",
       "<script type=\"text/javascript\">\n",
       "  var VEGA_DEBUG = (typeof VEGA_DEBUG == \"undefined\") ? {} : VEGA_DEBUG;\n",
       "  (function(spec, embedOpt){\n",
       "    let outputDiv = document.currentScript.previousElementSibling;\n",
       "    if (outputDiv.id !== \"altair-viz-3081f2dfc5424b968629eabbd6ecdf86\") {\n",
       "      outputDiv = document.getElementById(\"altair-viz-3081f2dfc5424b968629eabbd6ecdf86\");\n",
       "    }\n",
       "    const paths = {\n",
       "      \"vega\": \"https://cdn.jsdelivr.net/npm//vega@5?noext\",\n",
       "      \"vega-lib\": \"https://cdn.jsdelivr.net/npm//vega-lib?noext\",\n",
       "      \"vega-lite\": \"https://cdn.jsdelivr.net/npm//vega-lite@4.17.0?noext\",\n",
       "      \"vega-embed\": \"https://cdn.jsdelivr.net/npm//vega-embed@6?noext\",\n",
       "    };\n",
       "\n",
       "    function maybeLoadScript(lib, version) {\n",
       "      var key = `${lib.replace(\"-\", \"\")}_version`;\n",
       "      return (VEGA_DEBUG[key] == version) ?\n",
       "        Promise.resolve(paths[lib]) :\n",
       "        new Promise(function(resolve, reject) {\n",
       "          var s = document.createElement('script');\n",
       "          document.getElementsByTagName(\"head\")[0].appendChild(s);\n",
       "          s.async = true;\n",
       "          s.onload = () => {\n",
       "            VEGA_DEBUG[key] = version;\n",
       "            return resolve(paths[lib]);\n",
       "          };\n",
       "          s.onerror = () => reject(`Error loading script: ${paths[lib]}`);\n",
       "          s.src = paths[lib];\n",
       "        });\n",
       "    }\n",
       "\n",
       "    function showError(err) {\n",
       "      outputDiv.innerHTML = `<div class=\"error\" style=\"color:red;\">${err}</div>`;\n",
       "      throw err;\n",
       "    }\n",
       "\n",
       "    function displayChart(vegaEmbed) {\n",
       "      vegaEmbed(outputDiv, spec, embedOpt)\n",
       "        .catch(err => showError(`Javascript Error: ${err.message}<br>This usually means there's a typo in your chart specification. See the javascript console for the full traceback.`));\n",
       "    }\n",
       "\n",
       "    if(typeof define === \"function\" && define.amd) {\n",
       "      requirejs.config({paths});\n",
       "      require([\"vega-embed\"], displayChart, err => showError(`Error loading script: ${err.message}`));\n",
       "    } else {\n",
       "      maybeLoadScript(\"vega\", \"5\")\n",
       "        .then(() => maybeLoadScript(\"vega-lite\", \"4.17.0\"))\n",
       "        .then(() => maybeLoadScript(\"vega-embed\", \"6\"))\n",
       "        .catch(showError)\n",
       "        .then(() => displayChart(vegaEmbed));\n",
       "    }\n",
       "  })({\"config\": {\"view\": {\"continuousWidth\": 400, \"continuousHeight\": 300}}, \"data\": {\"name\": \"data-82c6a4620ef9294fb168b8b77552022f\"}, \"mark\": \"bar\", \"encoding\": {\"color\": {\"field\": \"emotion_zone\", \"legend\": null, \"scale\": {\"domain\": [\"green\", \"yellow\", \"red\", \"blue\"], \"range\": [\"green\", \"yellow\", \"red\", \"blue\"]}, \"title\": \"Emotion zones\", \"type\": \"nominal\"}, \"column\": {\"field\": \"video_part\", \"title\": \"Video Part: Session 4.2 (Specialist Annotation)\", \"type\": \"nominal\"}, \"x\": {\"field\": \"emotion_zone\", \"sort\": [\"green\", \"yellow\", \"red\", \"blue\"], \"title\": \"Emotions\", \"type\": \"nominal\"}, \"y\": {\"field\": \"values\", \"scale\": {\"domain\": [0, 1600]}, \"title\": \"Number of Emotions\", \"type\": \"quantitative\"}}, \"$schema\": \"https://vega.github.io/schema/vega-lite/v4.17.0.json\", \"datasets\": {\"data-82c6a4620ef9294fb168b8b77552022f\": [{\"video_part\": 1, \"emotion_zone\": \"green\", \"values\": 1135}, {\"video_part\": 2, \"emotion_zone\": \"green\", \"values\": 1107}, {\"video_part\": 3, \"emotion_zone\": \"green\", \"values\": 100}, {\"video_part\": 4, \"emotion_zone\": \"green\", \"values\": 815}, {\"video_part\": 5, \"emotion_zone\": \"green\", \"values\": 958}, {\"video_part\": 1, \"emotion_zone\": \"blue\", \"values\": 366}, {\"video_part\": 2, \"emotion_zone\": \"blue\", \"values\": 213}, {\"video_part\": 3, \"emotion_zone\": \"blue\", \"values\": 616}, {\"video_part\": 4, \"emotion_zone\": \"blue\", \"values\": 686}, {\"video_part\": 5, \"emotion_zone\": \"blue\", \"values\": 318}, {\"video_part\": 1, \"emotion_zone\": \"yellow\", \"values\": 0}, {\"video_part\": 2, \"emotion_zone\": \"yellow\", \"values\": 181}, {\"video_part\": 3, \"emotion_zone\": \"yellow\", \"values\": 711}, {\"video_part\": 4, \"emotion_zone\": \"yellow\", \"values\": 0}, {\"video_part\": 5, \"emotion_zone\": \"yellow\", \"values\": 0}, {\"video_part\": 1, \"emotion_zone\": \"red\", \"values\": 0}, {\"video_part\": 2, \"emotion_zone\": \"red\", \"values\": 0}, {\"video_part\": 3, \"emotion_zone\": \"red\", \"values\": 74}, {\"video_part\": 4, \"emotion_zone\": \"red\", \"values\": 0}, {\"video_part\": 5, \"emotion_zone\": \"red\", \"values\": 0}]}}, {\"mode\": \"vega-lite\"});\n",
       "</script>"
      ],
      "text/plain": [
       "alt.Chart(...)"
      ]
     },
     "execution_count": 25,
     "metadata": {},
     "output_type": "execute_result"
    }
   ],
   "source": [
    "dataframes_42 = add_video_part_column_to_dataframes(dataframes_42_specialist)\n",
    "\n",
    "dataframes_42_dict = create_whole_session_dict_values(dataframes_42)\n",
    "\n",
    "df_session_42 = pd.DataFrame(dataframes_42_dict)\n",
    "print(df_session_42)\n",
    "print(df_session_42[['red']])\n",
    "\n",
    "\n",
    "# Using pandas function to transform from wide format to long format, so Altair can work better\n",
    "source_42 = df_session_42.melt(\"video_part\", var_name=\"emotion_zone\", value_name='values')\n",
    "\n",
    "alt.Chart(source_42).mark_bar().encode(\n",
    "    alt.X('emotion_zone:N', sort=COLOURS, title=\"Emotions\"),\n",
    "    alt.Y('values:Q', title='Number of Emotions',\n",
    "         scale=alt.Scale(domain=(0, 1600)),\n",
    "         ),\n",
    "    column=alt.Column('video_part:N', title='Video Part: Session 4.2 (Specialist Annotation)'),\n",
    "    color=alt.Color('emotion_zone', scale=alt.Scale(domain=EMOTIONS, range=COLOURS), title='Emotion zones', legend=None)\n",
    "\n",
    ")"
   ]
  },
  {
   "cell_type": "code",
   "execution_count": null,
   "id": "e6e55db4",
   "metadata": {},
   "outputs": [],
   "source": []
  }
 ],
 "metadata": {
  "kernelspec": {
   "display_name": "Python 3 (ipykernel)",
   "language": "python",
   "name": "python3"
  },
  "language_info": {
   "codemirror_mode": {
    "name": "ipython",
    "version": 3
   },
   "file_extension": ".py",
   "mimetype": "text/x-python",
   "name": "python",
   "nbconvert_exporter": "python",
   "pygments_lexer": "ipython3",
   "version": "3.10.4"
  }
 },
 "nbformat": 4,
 "nbformat_minor": 5
}
