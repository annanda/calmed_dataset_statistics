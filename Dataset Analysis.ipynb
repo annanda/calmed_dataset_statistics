{
 "cells": [
  {
   "cell_type": "code",
   "execution_count": 1,
   "id": "e09cb6d6",
   "metadata": {},
   "outputs": [],
   "source": [
    "# Importing libs\n",
    "\n",
    "import numpy as np\n",
    "import pandas as pd\n",
    "import seaborn as sns\n",
    "from pylab import rcParams\n",
    "\n",
    "# configuration for graphics\n",
    "\n",
    "%matplotlib inline\n",
    "\n",
    "sns.set(style='whitegrid', palette='muted', font_scale=1.5)\n",
    "\n",
    "# rcParams['figure.figsize'] = 14, 8\n"
   ]
  },
  {
   "cell_type": "code",
   "execution_count": 2,
   "id": "0a245ea9",
   "metadata": {
    "scrolled": true
   },
   "outputs": [],
   "source": [
    "import os\n",
    "import sys\n",
    "\n",
    "NOTEBOOK_DIR = os.path.dirname(os.path.realpath(\"__file__\"))\n",
    "PROJECT_ROOT = os.path.dirname(NOTEBOOK_DIR)\n",
    "\n",
    "sys.path.append(PROJECT_ROOT) # make my_module available to import\n",
    "\n",
    "from dataset_statistics.utils import add_column_to_frames, get_value_counts"
   ]
  },
  {
   "cell_type": "code",
   "execution_count": 3,
   "id": "b362b80c",
   "metadata": {},
   "outputs": [],
   "source": [
    "# Read all dataframes (session 1)\n",
    "\n",
    "df_1 = pd.read_csv('datasets/participant_1/study_20210526_01_01.mp4.csv')\n",
    "df_2 = pd.read_csv('datasets/participant_1/study_20210526_01_02.mp4.csv')\n",
    "df_3 = pd.read_csv('datasets/participant_1/study_20210526_01_03.mp4.csv')\n",
    "df_4 = pd.read_csv('datasets/participant_1/study_20210526_01_04.mp4.csv')\n",
    "df_5 = pd.read_csv('datasets/participant_1/study_20210526_01_05.mp4.csv')\n",
    "df_6 = pd.read_csv('datasets/participant_1/study_20210526_01_06.mp4.csv')\n",
    "df_7 = pd.read_csv('datasets/participant_1/study_20210526_01_07.mp4.csv')\n"
   ]
  },
  {
   "cell_type": "code",
   "execution_count": 4,
   "id": "4b74cfcd",
   "metadata": {},
   "outputs": [
    {
     "data": {
      "text/plain": [
       "[{'green': 1296, 'blue': 102, 'yellow': 33, 'red': 0, 'video_part': 1},\n",
       " {'green': 981, 'blue': 510, 'yellow': 10, 'red': 0, 'video_part': 2},\n",
       " {'green': 1235, 'blue': 80, 'yellow': 38, 'red': 148, 'video_part': 3},\n",
       " {'green': 317, 'blue': 540, 'yellow': 402, 'red': 242, 'video_part': 4},\n",
       " {'green': 398, 'blue': 942, 'yellow': 161, 'red': 0, 'video_part': 5},\n",
       " {'green': 501, 'blue': 982, 'yellow': 18, 'red': 0, 'video_part': 6},\n",
       " {'green': 430, 'blue': 0, 'yellow': 126, 'red': 0, 'video_part': 7}]"
      ]
     },
     "execution_count": 4,
     "metadata": {},
     "output_type": "execute_result"
    }
   ],
   "source": [
    "frames = [df_1, df_2, df_3, df_4, df_5, df_6, df_7]\n",
    "\n",
    "frames = add_column_to_frames(frames)\n",
    "\n",
    "frames_dict = []\n",
    "for frame in frames: \n",
    "    frame_dict = get_value_counts(frame)\n",
    "    frames_dict.append(frame_dict)\n",
    "\n",
    "frames_dict"
   ]
  },
  {
   "cell_type": "code",
   "execution_count": null,
   "id": "c533e4e9",
   "metadata": {},
   "outputs": [],
   "source": []
  }
 ],
 "metadata": {
  "kernelspec": {
   "display_name": "Python 3 (ipykernel)",
   "language": "python",
   "name": "python3"
  },
  "language_info": {
   "codemirror_mode": {
    "name": "ipython",
    "version": 3
   },
   "file_extension": ".py",
   "mimetype": "text/x-python",
   "name": "python",
   "nbconvert_exporter": "python",
   "pygments_lexer": "ipython3",
   "version": "3.7.7"
  }
 },
 "nbformat": 4,
 "nbformat_minor": 5
}
